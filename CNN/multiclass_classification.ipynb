{
  "nbformat": 4,
  "nbformat_minor": 0,
  "metadata": {
    "colab": {
      "provenance": []
    },
    "kernelspec": {
      "name": "python3",
      "display_name": "Python 3"
    },
    "language_info": {
      "name": "python"
    }
  },
  "cells": [
    {
      "cell_type": "code",
      "execution_count": null,
      "metadata": {
        "id": "4rEO87mg3GF4"
      },
      "outputs": [],
      "source": [
        "import numpy as np\n",
        "import matplotlib.pyplot as plt\n",
        "import tensorflow as tf\n",
        "import zipfile\n",
        "import os\n",
        "from tensorflow.keras.preprocessing.image import ImageDataGenerator"
      ]
    },
    {
      "cell_type": "code",
      "source": [
        "# Download the train set\n",
        "!wget https://storage.googleapis.com/tensorflow-1-public/course2/week4/rps.zip\n",
        "\n",
        "# Download the test set\n",
        "!wget https://storage.googleapis.com/tensorflow-1-public/course2/week4/rps-test-set.zip\n"
      ],
      "metadata": {
        "colab": {
          "base_uri": "https://localhost:8080/"
        },
        "id": "MdRal9se5JS-",
        "outputId": "bbc36680-0c5a-42f5-9e2e-5b4a36e0dee6"
      },
      "execution_count": null,
      "outputs": [
        {
          "output_type": "stream",
          "name": "stdout",
          "text": [
            "--2023-09-10 15:36:43--  https://storage.googleapis.com/tensorflow-1-public/course2/week4/rps.zip\n",
            "Resolving storage.googleapis.com (storage.googleapis.com)... 173.194.213.207, 173.194.217.207, 173.194.218.207, ...\n",
            "Connecting to storage.googleapis.com (storage.googleapis.com)|173.194.213.207|:443... connected.\n",
            "HTTP request sent, awaiting response... 200 OK\n",
            "Length: 200682221 (191M) [application/zip]\n",
            "Saving to: ‘rps.zip’\n",
            "\n",
            "rps.zip             100%[===================>] 191.38M   232MB/s    in 0.8s    \n",
            "\n",
            "2023-09-10 15:36:44 (232 MB/s) - ‘rps.zip’ saved [200682221/200682221]\n",
            "\n",
            "--2023-09-10 15:36:44--  https://storage.googleapis.com/tensorflow-1-public/course2/week4/rps-test-set.zip\n",
            "Resolving storage.googleapis.com (storage.googleapis.com)... 173.194.213.207, 173.194.217.207, 173.194.218.207, ...\n",
            "Connecting to storage.googleapis.com (storage.googleapis.com)|173.194.213.207|:443... connected.\n",
            "HTTP request sent, awaiting response... 200 OK\n",
            "Length: 29516758 (28M) [application/zip]\n",
            "Saving to: ‘rps-test-set.zip’\n",
            "\n",
            "rps-test-set.zip    100%[===================>]  28.15M   112MB/s    in 0.3s    \n",
            "\n",
            "2023-09-10 15:36:44 (112 MB/s) - ‘rps-test-set.zip’ saved [29516758/29516758]\n",
            "\n"
          ]
        }
      ]
    },
    {
      "cell_type": "code",
      "source": [
        "\n",
        "# Extract the archive\n",
        "local_zip = './rps.zip'\n",
        "zip_ref = zipfile.ZipFile(local_zip, 'r')\n",
        "zip_ref.extractall('tmp/rps-train')\n",
        "zip_ref.close()\n",
        "\n",
        "local_zip = './rps-test-set.zip'\n",
        "zip_ref = zipfile.ZipFile(local_zip, 'r')\n",
        "zip_ref.extractall('tmp/rps-test')\n",
        "zip_ref.close()"
      ],
      "metadata": {
        "id": "iGaXRJ2H5SS0"
      },
      "execution_count": null,
      "outputs": []
    },
    {
      "cell_type": "code",
      "source": [
        "base_dir = './tmp/rps-train/rps'\n",
        "\n",
        "rock_dir = os.path.join(base_dir,\"rock\")\n",
        "paper_dir = os.path.join(base_dir,\"paper\")\n",
        "scissors_dir = os.path.join(base_dir,\"scissors\")\n",
        "\n",
        "print(f\"total training rock images : {len(os.listdir(rock_dir))}\")\n",
        "print(f\"total training paper images : {len(os.listdir(paper_dir))}\")\n",
        "print(f\"total training scissors images : {len(os.listdir(scissors_dir))}\")\n"
      ],
      "metadata": {
        "colab": {
          "base_uri": "https://localhost:8080/"
        },
        "id": "M0azAglr5WGl",
        "outputId": "75aa3c63-2539-4361-964d-1d772e75e011"
      },
      "execution_count": null,
      "outputs": [
        {
          "output_type": "stream",
          "name": "stdout",
          "text": [
            "total training rock images : 840\n",
            "total training paper images : 840\n",
            "total training scissors images : 840\n"
          ]
        }
      ]
    },
    {
      "cell_type": "code",
      "source": [
        "# Build the model\n",
        "\n",
        "model = tf.keras.models.Sequential([\n",
        "    tf.keras.layers.Conv2D(64,(3,3),activation = 'relu',input_shape = (150,150,3)),\n",
        "    tf.keras.layers.MaxPooling2D(2,2),\n",
        "    tf.keras.layers.Conv2D(64,(3,3),activation = 'relu'),\n",
        "    tf.keras.layers.MaxPooling2D(2,2),\n",
        "    tf.keras.layers.Conv2D(128,(3,3),activation = 'relu'),\n",
        "    tf.keras.layers.MaxPooling2D(2,2),\n",
        "    tf.keras.layers.Conv2D(128,(3,3),activation = 'relu'),\n",
        "    tf.keras.layers.MaxPooling2D(2,2),\n",
        "    tf.keras.layers.Flatten(),\n",
        "    tf.keras.layers.Dropout(0.2),\n",
        "    tf.keras.layers.Dense(512,activation = 'relu'),\n",
        "    tf.keras.layers.Dense(3,activation = 'softmax')\n",
        "])\n",
        "\n",
        "model.summary()"
      ],
      "metadata": {
        "colab": {
          "base_uri": "https://localhost:8080/"
        },
        "id": "3DN9os-tw-0k",
        "outputId": "c1c8b7b7-02dd-4c69-b4b5-375b5911fdaf"
      },
      "execution_count": null,
      "outputs": [
        {
          "output_type": "stream",
          "name": "stdout",
          "text": [
            "Model: \"sequential_2\"\n",
            "_________________________________________________________________\n",
            " Layer (type)                Output Shape              Param #   \n",
            "=================================================================\n",
            " conv2d_17 (Conv2D)          (None, 148, 148, 64)      1792      \n",
            "                                                                 \n",
            " max_pooling2d_16 (MaxPooli  (None, 74, 74, 64)        0         \n",
            " ng2D)                                                           \n",
            "                                                                 \n",
            " conv2d_18 (Conv2D)          (None, 72, 72, 64)        36928     \n",
            "                                                                 \n",
            " max_pooling2d_17 (MaxPooli  (None, 36, 36, 64)        0         \n",
            " ng2D)                                                           \n",
            "                                                                 \n",
            " conv2d_19 (Conv2D)          (None, 34, 34, 128)       73856     \n",
            "                                                                 \n",
            " max_pooling2d_18 (MaxPooli  (None, 17, 17, 128)       0         \n",
            " ng2D)                                                           \n",
            "                                                                 \n",
            " conv2d_20 (Conv2D)          (None, 15, 15, 128)       147584    \n",
            "                                                                 \n",
            " max_pooling2d_19 (MaxPooli  (None, 7, 7, 128)         0         \n",
            " ng2D)                                                           \n",
            "                                                                 \n",
            " flatten_3 (Flatten)         (None, 6272)              0         \n",
            "                                                                 \n",
            " dropout_2 (Dropout)         (None, 6272)              0         \n",
            "                                                                 \n",
            " dense_4 (Dense)             (None, 512)               3211776   \n",
            "                                                                 \n",
            " dense_5 (Dense)             (None, 3)                 1539      \n",
            "                                                                 \n",
            "=================================================================\n",
            "Total params: 3473475 (13.25 MB)\n",
            "Trainable params: 3473475 (13.25 MB)\n",
            "Non-trainable params: 0 (0.00 Byte)\n",
            "_________________________________________________________________\n"
          ]
        }
      ]
    },
    {
      "cell_type": "code",
      "source": [
        "model.compile(loss = 'categorical_crossentropy',\n",
        "              optimizer = 'rmsprop',\n",
        "              metrics = ['accuracy'])"
      ],
      "metadata": {
        "id": "dgc6tvi6y9Y_"
      },
      "execution_count": null,
      "outputs": []
    },
    {
      "cell_type": "code",
      "source": [
        "# Prepare the ImageDataGenerator\n",
        "\n",
        "TRAINING_DIR = \"./tmp/rps-train/rps\"\n",
        "train_datagen = ImageDataGenerator(rescale = 1./255.,\n",
        "                                   rotation_range = 40,\n",
        "                                   width_shift_range = 0.2,\n",
        "                                   height_shift_range = 0.2,\n",
        "                                   shear_range = 0.2,\n",
        "                                   zoom_range = 0.2,\n",
        "                                   horizontal_flip = True,\n",
        "                                   fill_mode = 'nearest')\n",
        "VALIDATION_DIR = \"./tmp/rps-test/rps-test-set\"\n",
        "\n",
        "valid_datagen = ImageDataGenerator(rescale = 1./255.)\n",
        "\n",
        "train_generator = train_datagen.flow_from_directory(TRAINING_DIR,\n",
        "                                                    batch_size = 32,\n",
        "                                                    class_mode = 'categorical',\n",
        "                                                    target_size = (150,150))\n",
        "\n",
        "valid_generator = valid_datagen.flow_from_directory(VALIDATION_DIR,\n",
        "                                                    batch_size = 32,\n",
        "                                                    class_mode = 'categorical',\n",
        "                                                    target_size = (150,150))\n"
      ],
      "metadata": {
        "colab": {
          "base_uri": "https://localhost:8080/"
        },
        "id": "ldA5NxMl5dIk",
        "outputId": "b1922e1f-fb7e-4335-f224-2924bd14a610"
      },
      "execution_count": null,
      "outputs": [
        {
          "output_type": "stream",
          "name": "stdout",
          "text": [
            "Found 2520 images belonging to 3 classes.\n",
            "Found 372 images belonging to 3 classes.\n"
          ]
        }
      ]
    },
    {
      "cell_type": "code",
      "source": [
        "history = model.fit(train_generator,\n",
        "                    validation_data = valid_generator,\n",
        "                    steps_per_epoch = 20,\n",
        "                    epochs = 20)"
      ],
      "metadata": {
        "colab": {
          "base_uri": "https://localhost:8080/"
        },
        "id": "LmrkZNeMwvvb",
        "outputId": "4117661e-ca26-4e98-d72e-00be40e889fb"
      },
      "execution_count": null,
      "outputs": [
        {
          "output_type": "stream",
          "name": "stdout",
          "text": [
            "Epoch 1/20\n",
            "20/20 [==============================] - 71s 3s/step - loss: 1.1512 - accuracy: 0.3500 - val_loss: 1.0916 - val_accuracy: 0.3333\n",
            "Epoch 2/20\n",
            "20/20 [==============================] - 61s 3s/step - loss: 1.1007 - accuracy: 0.3513 - val_loss: 1.0844 - val_accuracy: 0.4462\n",
            "Epoch 3/20\n",
            "20/20 [==============================] - 60s 3s/step - loss: 1.0976 - accuracy: 0.3750 - val_loss: 1.0520 - val_accuracy: 0.6022\n",
            "Epoch 4/20\n",
            "20/20 [==============================] - 61s 3s/step - loss: 1.0342 - accuracy: 0.5094 - val_loss: 0.8108 - val_accuracy: 0.6801\n",
            "Epoch 5/20\n",
            "20/20 [==============================] - 63s 3s/step - loss: 0.9221 - accuracy: 0.5328 - val_loss: 0.9531 - val_accuracy: 0.5753\n",
            "Epoch 6/20\n",
            "20/20 [==============================] - 61s 3s/step - loss: 0.8507 - accuracy: 0.5969 - val_loss: 0.6638 - val_accuracy: 0.6183\n",
            "Epoch 7/20\n",
            "20/20 [==============================] - 61s 3s/step - loss: 0.8093 - accuracy: 0.6078 - val_loss: 0.4572 - val_accuracy: 0.9140\n",
            "Epoch 8/20\n",
            "20/20 [==============================] - 60s 3s/step - loss: 0.7620 - accuracy: 0.6672 - val_loss: 0.8239 - val_accuracy: 0.5645\n",
            "Epoch 9/20\n",
            "20/20 [==============================] - 63s 3s/step - loss: 0.6338 - accuracy: 0.7328 - val_loss: 0.3756 - val_accuracy: 0.7930\n",
            "Epoch 10/20\n",
            "20/20 [==============================] - 60s 3s/step - loss: 0.5809 - accuracy: 0.7342 - val_loss: 0.2784 - val_accuracy: 0.8898\n",
            "Epoch 11/20\n",
            "20/20 [==============================] - 59s 3s/step - loss: 0.5056 - accuracy: 0.7906 - val_loss: 0.1950 - val_accuracy: 0.9758\n",
            "Epoch 12/20\n",
            "20/20 [==============================] - 71s 4s/step - loss: 0.4856 - accuracy: 0.8078 - val_loss: 0.2729 - val_accuracy: 0.9274\n",
            "Epoch 13/20\n",
            "20/20 [==============================] - 60s 3s/step - loss: 0.3677 - accuracy: 0.8656 - val_loss: 0.1589 - val_accuracy: 0.9435\n",
            "Epoch 14/20\n",
            "20/20 [==============================] - 60s 3s/step - loss: 0.3373 - accuracy: 0.8609 - val_loss: 0.4323 - val_accuracy: 0.7876\n",
            "Epoch 15/20\n",
            "20/20 [==============================] - 61s 3s/step - loss: 0.3281 - accuracy: 0.8781 - val_loss: 0.4147 - val_accuracy: 0.8441\n",
            "Epoch 16/20\n",
            "20/20 [==============================] - 60s 3s/step - loss: 0.3103 - accuracy: 0.8781 - val_loss: 0.0921 - val_accuracy: 0.9758\n",
            "Epoch 17/20\n",
            "20/20 [==============================] - 61s 3s/step - loss: 0.2643 - accuracy: 0.9109 - val_loss: 0.1158 - val_accuracy: 0.9570\n",
            "Epoch 18/20\n",
            "20/20 [==============================] - 61s 3s/step - loss: 0.2565 - accuracy: 0.9172 - val_loss: 0.0684 - val_accuracy: 0.9731\n",
            "Epoch 19/20\n",
            "20/20 [==============================] - 59s 3s/step - loss: 0.2159 - accuracy: 0.9035 - val_loss: 0.1235 - val_accuracy: 0.9489\n",
            "Epoch 20/20\n",
            "20/20 [==============================] - 62s 3s/step - loss: 0.2110 - accuracy: 0.9297 - val_loss: 0.0467 - val_accuracy: 0.9731\n"
          ]
        }
      ]
    },
    {
      "cell_type": "code",
      "source": [
        "import matplotlib.pyplot as plt\n",
        "\n",
        "# Plot the results\n",
        "acc = history.history['accuracy']\n",
        "val_acc = history.history['val_accuracy']\n",
        "loss = history.history['loss']\n",
        "val_loss = history.history['val_loss']\n",
        "\n",
        "epochs = range(len(acc))\n",
        "\n",
        "plt.plot(epochs, acc, 'r', label='Training accuracy')\n",
        "plt.plot(epochs, val_acc, 'b', label='Validation accuracy')\n",
        "plt.title('Training and validation accuracy')\n",
        "plt.legend(loc=0)\n",
        "plt.figure()\n",
        "\n",
        "plt.show()"
      ],
      "metadata": {
        "colab": {
          "base_uri": "https://localhost:8080/",
          "height": 470
        },
        "id": "lEhGnw26yx8S",
        "outputId": "394bd835-a8ea-42e6-e0d0-843512c2005e"
      },
      "execution_count": null,
      "outputs": [
        {
          "output_type": "display_data",
          "data": {
            "text/plain": [
              "<Figure size 640x480 with 1 Axes>"
            ],
            "image/png": "[encoded data removed]"
          },
          "metadata": {}
        },
        {
          "output_type": "display_data",
          "data": {
            "text/plain": [
              "<Figure size 640x480 with 0 Axes>"
            ]
          },
          "metadata": {}
        }
      ]
    },
    {
      "cell_type": "code",
      "source": [],
      "metadata": {
        "id": "2laqbJsczTY5"
      },
      "execution_count": null,
      "outputs": []
    }
  ]
}