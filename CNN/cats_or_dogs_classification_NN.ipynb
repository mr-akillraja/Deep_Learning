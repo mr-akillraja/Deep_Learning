{
 "cells": [
  {
   "cell_type": "markdown",
   "id": "37d7bb5f",
   "metadata": {},
   "source": [
    "# Classification of cats and dogs"
   ]
  },
  {
   "cell_type": "code",
   "execution_count": 108,
   "id": "232c21a3",
   "metadata": {},
   "outputs": [],
   "source": [
    "import numpy as np\n",
    "import pandas as pd\n",
    "import matplotlib.pyplot as plt\n",
    "import tensorflow as tf\n",
    "import keras\n",
    "from tensorflow.keras.optimizers import RMSprop\n",
    "from tensorflow.keras.preprocessing.image import ImageDataGenerator\n",
    "import zipfile\n",
    "import os"
   ]
  },
  {
   "cell_type": "code",
   "execution_count": 109,
   "id": "730d00f2",
   "metadata": {},
   "outputs": [],
   "source": [
    "local_file = './cats_or_dogs.zip'\n",
    "zip_file = zipfile.ZipFile(local_file,'r')\n",
    "zip_file.extractall(path = 'temp')"
   ]
  },
  {
   "cell_type": "code",
   "execution_count": 110,
   "id": "463908e0",
   "metadata": {},
   "outputs": [
    {
     "name": "stdout",
     "output_type": "stream",
     "text": [
      "No of classes in the training set : 3\n",
      "No of classes in the test set : 3\n"
     ]
    }
   ],
   "source": [
    "train_data = os.listdir('temp/training_set')\n",
    "print(f\"No of classes in the training set : {len(train_data)}\")\n",
    "test_data = os.listdir('temp/test_set')\n",
    "print(f\"No of classes in the test set : {len(test_data)}\")"
   ]
  },
  {
   "cell_type": "code",
   "execution_count": 111,
   "id": "7fc87021",
   "metadata": {},
   "outputs": [
    {
     "name": "stdout",
     "output_type": "stream",
     "text": [
      "No of dogs images : 4000\n",
      "No of cats images : 4000\n",
      "No of dogs in Test set : 1011\n",
      "No of cats in Test set : 1011\n"
     ]
    }
   ],
   "source": [
    "# dogs in Training set\n",
    "train_data_dogs = os.listdir('temp/training_set/dogs')\n",
    "print(f\"No of dogs images : {len(train_data_dogs)}\")\n",
    "# cats in training set\n",
    "train_data_cats = os.listdir('temp/training_set/cats')\n",
    "print(f\"No of cats images : {len(train_data_cats)}\")\n",
    "# dogs in validation set .\n",
    "test_data_dog = os.listdir('temp/test_set/dogs')\n",
    "print(f\"No of dogs in Test set : {len(test_data_dog)}\")\n",
    "# cats in validation set.\n",
    "test_data_cat = os.listdir('temp/test_set/cats')\n",
    "print(f\"No of cats in Test set : {len(test_data_cat)}\")"
   ]
  },
  {
   "cell_type": "code",
   "execution_count": 115,
   "id": "32d7010f",
   "metadata": {},
   "outputs": [
    {
     "name": "stdout",
     "output_type": "stream",
     "text": [
      "['dog.1.jpg', 'dog.10.jpg', 'dog.100.jpg', 'dog.1000.jpg', 'dog.1001.jpg', 'dog.1002.jpg', 'dog.1003.jpg', 'dog.1004.jpg', 'dog.1005.jpg', 'dog.1006.jpg']\n",
      "['cat.1.jpg', 'cat.10.jpg', 'cat.100.jpg', 'cat.1000.jpg', 'cat.1001.jpg', 'cat.1002.jpg', 'cat.1003.jpg', 'cat.1004.jpg', 'cat.1005.jpg', 'cat.1006.jpg']\n"
     ]
    }
   ],
   "source": [
    "print(train_data_dogs[:10])\n",
    "print(train_data_cats[:10])"
   ]
  },
  {
   "cell_type": "code",
   "execution_count": 57,
   "id": "28320e64",
   "metadata": {},
   "outputs": [],
   "source": [
    "# Model Architecture \n",
    "\n",
    "model = tf.keras.models.Sequential([\n",
    "    tf.keras.layers.Conv2D(32,(3,3),activation = 'relu',input_shape=(150,150,3)),\n",
    "    tf.keras.layers.MaxPooling2D(2,2),\n",
    "    tf.keras.layers.Conv2D(32,(3,3),activation = 'relu'),\n",
    "    tf.keras.layers.MaxPooling2D(2,2),\n",
    "    tf.keras.layers.Conv2D(64,(3,3),activation = 'relu'),\n",
    "    tf.keras.layers.Flatten(),\n",
    "    tf.keras.layers.Dense(512,activation = 'relu'),\n",
    "    tf.keras.layers.Dense(1,activation = 'sigmoid')\n",
    "])\n"
   ]
  },
  {
   "cell_type": "code",
   "execution_count": 60,
   "id": "384934be",
   "metadata": {},
   "outputs": [
    {
     "name": "stderr",
     "output_type": "stream",
     "text": [
      "WARNING:absl:`lr` is deprecated in Keras optimizer, please use `learning_rate` or use the legacy optimizer, e.g.,tf.keras.optimizers.legacy.RMSprop.\n"
     ]
    }
   ],
   "source": [
    "model.compile(loss='binary_crossentropy',\n",
    "             optimizer = RMSprop(lr=0.001),\n",
    "             metrics = ['accuracy'])"
   ]
  },
  {
   "cell_type": "code",
   "execution_count": 86,
   "id": "c3014d76",
   "metadata": {},
   "outputs": [
    {
     "name": "stdout",
     "output_type": "stream",
     "text": [
      "Found 8000 images belonging to 2 classes.\n",
      "Found 2022 images belonging to 2 classes.\n"
     ]
    }
   ],
   "source": [
    "train_data = 'temp/training_set'\n",
    "test_data = 'temp/test_set'\n",
    "train_datagen = ImageDataGenerator(rescale=1/255)\n",
    "train_datagenerator = train_datagen.flow_from_directory(train_data,\n",
    "                                        batch_size = 64,\n",
    "                                        class_mode = 'binary',\n",
    "                                        target_size=(150,150))\n",
    "\n",
    "valid_datagen = ImageDataGenerator(rescale=1/255)\n",
    "valid_datagenerator = valid_datagen.flow_from_directory(test_data,\n",
    "                                  batch_size = 64,\n",
    "                                  class_mode = 'binary',\n",
    "                                  target_size = (150,150))"
   ]
  },
  {
   "cell_type": "code",
   "execution_count": 88,
   "id": "8c95041f",
   "metadata": {},
   "outputs": [
    {
     "name": "stdout",
     "output_type": "stream",
     "text": [
      "Epoch 1/15\n",
      "125/125 [==============================] - 338s 3s/step - loss: 0.8105 - accuracy: 0.5280 - val_loss: 0.6683 - val_accuracy: 0.5529\n",
      "Epoch 2/15\n",
      "125/125 [==============================] - 303s 2s/step - loss: 0.6424 - accuracy: 0.6173 - val_loss: 0.5854 - val_accuracy: 0.6889\n",
      "Epoch 3/15\n",
      "125/125 [==============================] - 291s 2s/step - loss: 0.5974 - accuracy: 0.6849 - val_loss: 0.5744 - val_accuracy: 0.6815\n",
      "Epoch 4/15\n",
      "125/125 [==============================] - 277s 2s/step - loss: 0.5421 - accuracy: 0.7185 - val_loss: 0.5300 - val_accuracy: 0.7295\n",
      "Epoch 5/15\n",
      "125/125 [==============================] - 275s 2s/step - loss: 0.5065 - accuracy: 0.7431 - val_loss: 0.5086 - val_accuracy: 0.7493\n",
      "Epoch 6/15\n",
      "125/125 [==============================] - 331s 3s/step - loss: 0.4636 - accuracy: 0.7739 - val_loss: 0.4963 - val_accuracy: 0.7651\n",
      "Epoch 7/15\n",
      "125/125 [==============================] - 329s 3s/step - loss: 0.4216 - accuracy: 0.8030 - val_loss: 0.4838 - val_accuracy: 0.7690\n",
      "Epoch 8/15\n",
      "125/125 [==============================] - 308s 2s/step - loss: 0.3594 - accuracy: 0.8394 - val_loss: 0.4942 - val_accuracy: 0.7770\n",
      "Epoch 9/15\n",
      "125/125 [==============================] - 317s 3s/step - loss: 0.3007 - accuracy: 0.8685 - val_loss: 0.5468 - val_accuracy: 0.7567\n",
      "Epoch 10/15\n",
      "125/125 [==============================] - 310s 2s/step - loss: 0.2163 - accuracy: 0.9160 - val_loss: 0.7932 - val_accuracy: 0.7290\n",
      "Epoch 11/15\n",
      "125/125 [==============================] - 1940s 16s/step - loss: 0.1330 - accuracy: 0.9491 - val_loss: 0.8683 - val_accuracy: 0.7438\n",
      "Epoch 12/15\n",
      "125/125 [==============================] - 279s 2s/step - loss: 0.1051 - accuracy: 0.9693 - val_loss: 0.8571 - val_accuracy: 0.7774\n",
      "Epoch 13/15\n",
      "125/125 [==============================] - 270s 2s/step - loss: 0.0806 - accuracy: 0.9858 - val_loss: 1.1889 - val_accuracy: 0.7730\n",
      "Epoch 14/15\n",
      "125/125 [==============================] - 278s 2s/step - loss: 0.1010 - accuracy: 0.9810 - val_loss: 1.1305 - val_accuracy: 0.7587\n",
      "Epoch 15/15\n",
      "125/125 [==============================] - 277s 2s/step - loss: 0.0371 - accuracy: 0.9879 - val_loss: 1.1926 - val_accuracy: 0.7582\n"
     ]
    }
   ],
   "source": [
    "history = model.fit(train_datagenerator,\n",
    "                    epochs = 15,\n",
    "                   verbose = 1,\n",
    "                   validation_data = valid_datagenerator)"
   ]
  },
  {
   "cell_type": "code",
   "execution_count": 96,
   "id": "3bea58ab",
   "metadata": {},
   "outputs": [
    {
     "data": {
      "text/plain": [
       "Text(0.5, 1.0, 'Loss_And_Validation_Loss')"
      ]
     },
     "execution_count": 96,
     "metadata": {},
     "output_type": "execute_result"
    },
    {
     "data": {
      "image/png": "[encoded data removed]",
      "text/plain": [
       "<Figure size 640x480 with 1 Axes>"
      ]
     },
     "metadata": {},
     "output_type": "display_data"
    },
    {
     "data": {
      "image/png": "[encoded data removed]",
      "text/plain": [
       "<Figure size 640x480 with 1 Axes>"
      ]
     },
     "metadata": {},
     "output_type": "display_data"
    }
   ],
   "source": [
    "acc = history.history['accuracy']\n",
    "val = history.history['val_accuracy']\n",
    "loss = history.history['loss']\n",
    "val_loss = history.history['val_loss']\n",
    "\n",
    "epochs = range(len(acc))\n",
    "\n",
    "# Plotting the graph for accuracy\n",
    "plt.plot(epochs,acc,'r',label = 'accuracy')\n",
    "plt.plot(epochs,val,'b',label = 'validation_accuracy')\n",
    "plt.title(\"Training_And_Validation_Accuracy\")\n",
    "plt.figure()\n",
    "\n",
    "# Plotting the graph for loss \n",
    "\n",
    "plt.plot(epochs,loss,'r',\"loss\")\n",
    "plt.plot(epochs,val_loss,'b',\"validation_loss\")\n",
    "plt.title(\"Loss_And_Validation_Loss\")\n",
    "\n"
   ]
  },
  {
   "cell_type": "code",
   "execution_count": null,
   "id": "63195877",
   "metadata": {},
   "outputs": [],
   "source": []
  },
  {
   "cell_type": "code",
   "execution_count": null,
   "id": "bce95638",
   "metadata": {},
   "outputs": [],
   "source": []
  },
  {
   "cell_type": "code",
   "execution_count": null,
   "id": "63942564",
   "metadata": {},
   "outputs": [],
   "source": []
  },
  {
   "cell_type": "code",
   "execution_count": null,
   "id": "d6152901",
   "metadata": {},
   "outputs": [],
   "source": []
  },
  {
   "cell_type": "code",
   "execution_count": null,
   "id": "d97d750a",
   "metadata": {},
   "outputs": [],
   "source": []
  }
 ],
 "metadata": {
  "kernelspec": {
   "display_name": "Python 3 (ipykernel)",
   "language": "python",
   "name": "python3"
  },
  "language_info": {
   "codemirror_mode": {
    "name": "ipython",
    "version": 3
   },
   "file_extension": ".py",
   "mimetype": "text/x-python",
   "name": "python",
   "nbconvert_exporter": "python",
   "pygments_lexer": "ipython3",
   "version": "3.9.7"
  }
 },
 "nbformat": 4,
 "nbformat_minor": 5
}
