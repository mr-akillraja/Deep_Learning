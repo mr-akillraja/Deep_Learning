{
 "cells": [
  {
   "cell_type": "code",
   "execution_count": 1,
   "id": "f9b1cea8",
   "metadata": {},
   "outputs": [
    {
     "ename": "ModuleNotFoundError",
     "evalue": "No module named 'tensorflow.keras'",
     "output_type": "error",
     "traceback": [
      "\u001b[1;31m---------------------------------------------------------------------------\u001b[0m",
      "\u001b[1;31mModuleNotFoundError\u001b[0m                       Traceback (most recent call last)",
      "Cell \u001b[1;32mIn[1], line 4\u001b[0m\n\u001b[0;32m      2\u001b[0m \u001b[38;5;28;01mimport\u001b[39;00m \u001b[38;5;21;01mmatplotlib\u001b[39;00m\u001b[38;5;21;01m.\u001b[39;00m\u001b[38;5;21;01mpyplot\u001b[39;00m \u001b[38;5;28;01mas\u001b[39;00m \u001b[38;5;21;01mplt\u001b[39;00m\n\u001b[0;32m      3\u001b[0m \u001b[38;5;28;01mimport\u001b[39;00m \u001b[38;5;21;01mtensorflow\u001b[39;00m \u001b[38;5;28;01mas\u001b[39;00m \u001b[38;5;21;01mtf\u001b[39;00m\n\u001b[1;32m----> 4\u001b[0m \u001b[38;5;28;01mfrom\u001b[39;00m \u001b[38;5;21;01mtensorflow\u001b[39;00m\u001b[38;5;21;01m.\u001b[39;00m\u001b[38;5;21;01mkeras\u001b[39;00m\u001b[38;5;21;01m.\u001b[39;00m\u001b[38;5;21;01mpreprocessing\u001b[39;00m\u001b[38;5;21;01m.\u001b[39;00m\u001b[38;5;21;01mtext\u001b[39;00m \u001b[38;5;28;01mimport\u001b[39;00m Tokenizer\n\u001b[0;32m      5\u001b[0m \u001b[38;5;28;01mfrom\u001b[39;00m \u001b[38;5;21;01mtensorflow\u001b[39;00m\u001b[38;5;21;01m.\u001b[39;00m\u001b[38;5;21;01mkeras\u001b[39;00m\u001b[38;5;21;01m.\u001b[39;00m\u001b[38;5;21;01mpreprocessing\u001b[39;00m\u001b[38;5;21;01m.\u001b[39;00m\u001b[38;5;21;01msequence\u001b[39;00m \u001b[38;5;28;01mimport\u001b[39;00m pad_sequences\n\u001b[0;32m      6\u001b[0m \u001b[38;5;28;01mimport\u001b[39;00m \u001b[38;5;21;01mtensorflow_datasets\u001b[39;00m \u001b[38;5;28;01mas\u001b[39;00m \u001b[38;5;21;01mtfds\u001b[39;00m\n",
      "\u001b[1;31mModuleNotFoundError\u001b[0m: No module named 'tensorflow.keras'"
     ]
    }
   ],
   "source": [
    "import numpy as np\n",
    "import matplotlib.pyplot as plt\n",
    "import tensorflow as tf\n",
    "from tensorflow.keras.preprocessing.text import Tokenizer\n",
    "from tensorflow.keras.preprocessing.sequence import pad_sequences\n",
    "import tensorflow_datasets as tfds"
   ]
  },
  {
   "cell_type": "code",
   "execution_count": null,
   "id": "3d0b0175",
   "metadata": {},
   "outputs": [],
   "source": [
    "# Load the IMDB Reviews dataset\n",
    "imdb, info = tfds.load(\"imdb_reviews\", with_info=True, as_supervised=True)"
   ]
  },
  {
   "cell_type": "code",
   "execution_count": null,
   "id": "0bd8c7de",
   "metadata": {},
   "outputs": [],
   "source": [
    "train_data , test_data = imdb['train'] , imdb['test']\n",
    "# Creating the training dataset for text and labels\n",
    "train_sentences = []\n",
    "train_labels = []\n",
    "# Creating the validation set for text and labels\n",
    "test_sentences = []\n",
    "test_labels = []\n",
    "\n",
    "for s,l in imdb['train']:\n",
    "    train_sentences.append(s.numpy().decode(\"utf-8\"))\n",
    "    train_labels.append(l.numpy())\n",
    "for s,l in imdb['test']:\n",
    "    test_sentences.append(s.numpy().decode(\"utf-8\"))\n",
    "    test_labels.append(l.numpy())\n",
    "\n",
    "train_labels = np.array(train_labels)\n",
    "test_labels = np.array(test_labels)\n",
    "print(f\"Total elements in the train set : {len(imdb['train'])}\")\n",
    "print(f\"Total elements in the test set : {len(imdb['test'])}\")\n",
    "print(f\"Total no.of sentences in the train set : {len(train_sentences)}\")\n",
    "print(f\"Total no.of sentences in the test set : {len(test_sentences)}\")"
   ]
  },
  {
   "cell_type": "code",
   "execution_count": 53,
   "id": "706f6234",
   "metadata": {},
   "outputs": [],
   "source": [
    "# parameters for the tokenzier \n",
    "vocab_size = 10000\n",
    "embedding_dim = 16\n",
    "max_length = 120\n",
    "oov_token = '<OOV>'\n",
    "trunc_type = 'post'"
   ]
  },
  {
   "cell_type": "code",
   "execution_count": 72,
   "id": "4109a1d0",
   "metadata": {},
   "outputs": [
    {
     "name": "stdout",
     "output_type": "stream",
     "text": [
      "Total no.of words as dictionary : 88583\n",
      "original : \"And All Through the House\" is a special crypt episode not only because it's from the first season, but this episode was the first one I saw! I remember as a young man being on vacation with my parents that summer in 1989 in our hotel room in South Carolina on HBO I saw this episode and I was buried to the Crypt right then and forever! I had always been a fan of horror-suspense series and liked monster movies, and with this series started by HBO I again had fearful pleasure. This episode being the first one I saw is memorable for me and one of my favorites, it's just so enjoyable with a nice twist. \"And All Through the House\" has a nice cozy setting on a snowy Christmas Eve, which is a perfect way to get you relaxed for holiday chopping! Well anyway you have Mary Ellen Trainor(who by the way plays in several warner brothers works, usually small parts) as a greedy philandering wife who takes care of her hubby while waiting on some money and a new romance. Only like most horror series things take a turn for the worst and bad people get what they deserve. The odds are greatly stacked when a maniac dressed as Santa escapes from a local nut house, making for a late holiday chopping on Christmas Eve! As from the old E.C. comic lessons, you learn bad people get what they axe for! Well this tale ends with a perfect holiday scream! Also this tale was in the 1972 movie and featured Joan Collins, this is without a doubt one of my favorites and probably one of the classic crypt episodes of all-time!\n",
      "sequences : [12, 14, 33, 425, 392, 18, 90, 28, 1, 9, 32, 1366, 3585, 40, 486, 1, 197, 24, 85, 154, 19, 12, 213, 329, 28, 66, 247, 215, 9, 477, 58, 66, 85, 114, 98, 22, 5675, 12, 1322, 643, 767, 12, 18, 7, 33, 400, 8170, 176, 2455, 416, 2, 89, 1231, 137, 69, 146, 52, 2, 1, 7577, 69, 229, 66, 2933, 16, 1, 2904, 1, 1, 1479, 4940, 3, 39, 3900, 117, 1584, 17, 3585, 14, 162, 19, 4, 1231, 917, 7917, 9, 4, 18, 13, 14, 4139, 5, 99, 145, 1214, 11, 242, 683, 13, 48, 24, 100, 38, 12, 7181, 5515, 38, 1366, 1, 50, 401, 11, 98, 1197, 867, 141, 10]\n",
      "padding : [  12   14   33  425  392   18   90   28    1    9   32 1366 3585   40\n",
      "  486    1  197   24   85  154   19   12  213  329   28   66  247  215\n",
      "    9  477   58   66   85  114   98   22 5675   12 1322  643  767   12\n",
      "   18    7   33  400 8170  176 2455  416    2   89 1231  137   69  146\n",
      "   52    2    1 7577   69  229   66 2933   16    1 2904    1    1 1479\n",
      " 4940    3   39 3900  117 1584   17 3585   14  162   19    4 1231  917\n",
      " 7917    9    4   18   13   14 4139    5   99  145 1214   11  242  683\n",
      "   13   48   24  100   38   12 7181 5515   38 1366    1   50  401   11\n",
      "   98 1197  867  141   10    0    0    0]\n",
      "label : 0\n"
     ]
    }
   ],
   "source": [
    "# Tokenization of the training sentences \n",
    "\n",
    "tokenizer = Tokenizer(num_words = vocab_size , oov_token = oov_token)\n",
    "tokenizer.fit_on_texts(train_sentences)\n",
    "word_indx = tokenizer.word_index\n",
    "sequences = tokenizer.texts_to_sequences(train_sentences)\n",
    "padding = pad_sequences(sequences,maxlen = max_length,padding = trunc_type)\n",
    "print(f\"Total no.of words as dictionary : {len(word_indx)}\")\n",
    "# Printing of first example from the training set\n",
    "print(f\"original : {train_sentences[123]}\")\n",
    "print(f\"sequences : {sequences[0]}\")\n",
    "print(f\"padding : {padding[0]}\")\n",
    "print(f\"label : {train_labels[0]}\")"
   ]
  },
  {
   "cell_type": "code",
   "execution_count": 58,
   "id": "c9044653",
   "metadata": {},
   "outputs": [
    {
     "name": "stdout",
     "output_type": "stream",
     "text": [
      "original test sentences : There are films that make careers. For George Romero, it was NIGHT OF THE LIVING DEAD; for Kevin Smith, CLERKS; for Robert Rodriguez, EL MARIACHI. Add to that list Onur Tukel's absolutely amazing DING-A-LING-LESS. Flawless film-making, and as assured and as professional as any of the aforementioned movies. I haven't laughed this hard since I saw THE FULL MONTY. (And, even then, I don't think I laughed quite this hard... So to speak.) Tukel's talent is considerable: DING-A-LING-LESS is so chock full of double entendres that one would have to sit down with a copy of this script and do a line-by-line examination of it to fully appreciate the, uh, breadth and width of it. Every shot is beautifully composed (a clear sign of a sure-handed director), and the performances all around are solid (there's none of the over-the-top scenery chewing one might've expected from a film like this). DING-A-LING-LESS is a film whose time has come.\n",
      "sequenced test sentences : [48, 24, 106, 13, 95, 4066, 16, 740, 5065, 10, 14, 312, 5, 2, 579, 349, 16, 1847, 1257, 1, 16, 668, 7666, 5531, 1, 761, 6, 13, 1026, 1, 1, 425, 478, 1, 4, 1, 327, 3560, 20, 229, 3, 15, 5742, 3, 15, 1620, 15, 99, 5, 2, 3550, 100, 11, 772, 1498, 12, 252, 235, 11, 217, 2, 366, 6454, 3, 58, 93, 11, 90, 102, 11, 1498, 177, 12, 252, 36, 6, 1126, 1, 674, 7, 4387, 1, 4, 1, 327, 7, 36, 8300, 366, 5, 1403, 1, 13, 29, 60, 26, 6, 867, 178, 17, 4, 1037, 5, 12, 227, 3, 79, 4, 345, 32, 345, 5159, 5, 10, 6, 1314, 1143, 2, 5619, 1, 3, 1, 5, 10, 173, 322, 7, 1293, 3938, 4, 788, 1909, 5, 4, 250, 2673, 165, 3, 2, 352, 30, 185, 24, 1154, 223, 599, 5, 2, 118, 2, 348, 1382, 7675, 29, 1, 871, 37, 4, 20, 38, 12, 1, 4, 1, 327, 7, 4, 20, 624, 56, 46, 214]\n",
      "padded test sentences : [  48   24  106   13   95 4066   16  740 5065   10   14  312    5    2\n",
      "  579  349   16 1847 1257    1   16  668 7666 5531    1  761    6   13\n",
      " 1026    1    1  425  478    1    4    1  327 3560   20  229    3   15\n",
      " 5742    3   15 1620   15   99    5    2 3550  100   11  772 1498   12\n",
      "  252  235   11  217    2  366 6454    3   58   93   11   90  102   11\n",
      " 1498  177   12  252   36    6 1126    1  674    7 4387    1    4    1\n",
      "  327    7   36 8300  366    5 1403    1   13   29   60   26    6  867\n",
      "  178   17    4 1037    5   12  227    3   79    4  345   32  345 5159\n",
      "    5   10    6 1314 1143    2 5619    1]\n",
      "label : 1\n"
     ]
    }
   ],
   "source": [
    "# Tokenizing for the test set\n",
    "sentences = tokenizer.texts_to_sequences(test_sentences)\n",
    "test_sentences_pad = pad_sequences(sentences,maxlen = max_length,truncating = trunc_type)\n",
    "print(f\"original test sentences : {test_sentences[0]}\")\n",
    "print(f\"sequenced test sentences : {sentences[0]}\")\n",
    "print(f\"padded test sentences : {test_sentences_pad[0]}\")\n",
    "print(f\"label : {test_labels[0]}\")"
   ]
  },
  {
   "cell_type": "code",
   "execution_count": 44,
   "id": "7957bda5",
   "metadata": {},
   "outputs": [],
   "source": [
    "# Model architecture \n",
    "\n",
    "model = tf.keras.models.Sequential([\n",
    "    tf.keras.layers.Embedding(vocab_size , embedding_dim , input_length = max_length),\n",
    "    tf.keras.layers.Flatten(),\n",
    "    tf.keras.layers.Dense(6,activation = 'relu'),\n",
    "    tf.keras.layers.Dense(1,activation = 'softmax')\n",
    "    \n",
    "])"
   ]
  },
  {
   "cell_type": "code",
   "execution_count": 61,
   "id": "d96effd4",
   "metadata": {},
   "outputs": [
    {
     "name": "stdout",
     "output_type": "stream",
     "text": [
      "Model: \"sequential_2\"\n",
      "_________________________________________________________________\n",
      " Layer (type)                Output Shape              Param #   \n",
      "=================================================================\n",
      " embedding_1 (Embedding)     (None, 120, 16)           160000    \n",
      "                                                                 \n",
      " flatten_1 (Flatten)         (None, 1920)              0         \n",
      "                                                                 \n",
      " dense_2 (Dense)             (None, 6)                 11526     \n",
      "                                                                 \n",
      " dense_3 (Dense)             (None, 1)                 7         \n",
      "                                                                 \n",
      "=================================================================\n",
      "Total params: 171533 (670.05 KB)\n",
      "Trainable params: 171533 (670.05 KB)\n",
      "Non-trainable params: 0 (0.00 Byte)\n",
      "_________________________________________________________________\n"
     ]
    }
   ],
   "source": [
    "model.summary()"
   ]
  },
  {
   "cell_type": "code",
   "execution_count": 45,
   "id": "8ce73f34",
   "metadata": {},
   "outputs": [],
   "source": [
    "model.compile(loss = 'binary_crossentropy',\n",
    "             optimizer = 'adam',\n",
    "             metrics = ['accuracy'])"
   ]
  },
  {
   "cell_type": "code",
   "execution_count": 60,
   "id": "1a08a0ce",
   "metadata": {},
   "outputs": [
    {
     "name": "stdout",
     "output_type": "stream",
     "text": [
      "Epoch 1/10\n",
      "782/782 [==============================] - 9s 8ms/step - loss: 0.4629 - accuracy: 0.5000 - val_loss: 0.3888 - val_accuracy: 0.5000\n",
      "Epoch 2/10\n",
      "782/782 [==============================] - 6s 7ms/step - loss: 0.2127 - accuracy: 0.5000 - val_loss: 0.4285 - val_accuracy: 0.5000\n",
      "Epoch 3/10\n",
      "782/782 [==============================] - 5s 7ms/step - loss: 0.0875 - accuracy: 0.5000 - val_loss: 0.5198 - val_accuracy: 0.5000\n",
      "Epoch 4/10\n",
      "782/782 [==============================] - 6s 8ms/step - loss: 0.0271 - accuracy: 0.5000 - val_loss: 0.6123 - val_accuracy: 0.5000\n",
      "Epoch 5/10\n",
      "782/782 [==============================] - 6s 8ms/step - loss: 0.0094 - accuracy: 0.5000 - val_loss: 0.6865 - val_accuracy: 0.5000\n",
      "Epoch 6/10\n",
      "782/782 [==============================] - 6s 8ms/step - loss: 0.0031 - accuracy: 0.5000 - val_loss: 0.7663 - val_accuracy: 0.5000\n",
      "Epoch 7/10\n",
      "782/782 [==============================] - 6s 8ms/step - loss: 0.0011 - accuracy: 0.5000 - val_loss: 0.8237 - val_accuracy: 0.5000\n",
      "Epoch 8/10\n",
      "782/782 [==============================] - 6s 7ms/step - loss: 4.8345e-04 - accuracy: 0.5000 - val_loss: 0.8846 - val_accuracy: 0.5000\n",
      "Epoch 9/10\n",
      "782/782 [==============================] - 6s 8ms/step - loss: 3.0703e-04 - accuracy: 0.5000 - val_loss: 0.9193 - val_accuracy: 0.5000\n",
      "Epoch 10/10\n",
      "782/782 [==============================] - 6s 7ms/step - loss: 1.6117e-04 - accuracy: 0.5000 - val_loss: 0.9680 - val_accuracy: 0.5000\n"
     ]
    },
    {
     "data": {
      "text/plain": [
       "<keras.src.callbacks.History at 0x1d4a2ccb370>"
      ]
     },
     "execution_count": 60,
     "metadata": {},
     "output_type": "execute_result"
    }
   ],
   "source": [
    "model.fit(padding,train_labels,validation_data = (test_sentences_pad,test_labels),\n",
    "         epochs = 10,\n",
    "         verbose = 1)"
   ]
  },
  {
   "cell_type": "code",
   "execution_count": null,
   "id": "25108253",
   "metadata": {},
   "outputs": [],
   "source": []
  },
  {
   "cell_type": "code",
   "execution_count": null,
   "id": "07173965",
   "metadata": {},
   "outputs": [],
   "source": []
  }
 ],
 "metadata": {
  "kernelspec": {
   "display_name": "Python 3 (ipykernel)",
   "language": "python",
   "name": "python3"
  },
  "language_info": {
   "codemirror_mode": {
    "name": "ipython",
    "version": 3
   },
   "file_extension": ".py",
   "mimetype": "text/x-python",
   "name": "python",
   "nbconvert_exporter": "python",
   "pygments_lexer": "ipython3",
   "version": "3.9.7"
  }
 },
 "nbformat": 4,
 "nbformat_minor": 5
}
