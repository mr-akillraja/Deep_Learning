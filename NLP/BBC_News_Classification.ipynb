{
 "cells": [
  {
   "cell_type": "markdown",
   "id": "b6291a42",
   "metadata": {},
   "source": [
    "## BBC News classification "
   ]
  },
  {
   "cell_type": "code",
   "execution_count": 68,
   "id": "9f3ea5fc",
   "metadata": {},
   "outputs": [],
   "source": [
    "import tensorflow as tf\n",
    "import tensorflow_datasets as tfds\n",
    "import numpy as np\n",
    "import matplotlib.pyplot as plt\n",
    "from tensorflow.keras.preprocessing.text import Tokenizer\n",
    "from tensorflow.keras.preprocessing.sequence import pad_sequences\n",
    "import zipfile "
   ]
  },
  {
   "cell_type": "code",
   "execution_count": 49,
   "id": "8e61b47d",
   "metadata": {},
   "outputs": [],
   "source": [
    "# Unzipping the train bbc news files\n",
    "local_zip_train = zipfile.ZipFile(\"bbc-text.csv.zip\")\n",
    "local_zip_train.extractall(\"./\")"
   ]
  },
  {
   "cell_type": "code",
   "execution_count": 50,
   "id": "9c80ab91",
   "metadata": {},
   "outputs": [
    {
     "name": "stdout",
     "output_type": "stream",
     "text": [
      "training examples : category,text\n",
      "\n",
      "training examples : tech,tv future in the hands of viewers with home theatre systems  plasma high-definition tvs  and digital video recorders moving into the living room  the way people watch tv will be radically different in five years  time.  that is according to an expert panel which gathered at the annual consumer electronics show in las vegas to discuss how these new technologies will impact one of our favourite pastimes. with the us leading the trend  programmes and other content will be delivered to viewers via home networks  through cable  satellite  telecoms companies  and broadband service providers to front rooms and portable devices.  one of the most talked-about technologies of ces has been digital and personal video recorders (dvr and pvr). these set-top boxes  like the us s tivo and the uk s sky+ system  allow people to record  store  play  pause and forward wind tv programmes when they want.  essentially  the technology allows for much more personalised tv. they are also being built-in to high-definition tv sets  which are big business in japan and the us  but slower to take off in europe because of the lack of high-definition programming. not only can people forward wind through adverts  they can also forget about abiding by network and channel schedules  putting together their own a-la-carte entertainment. but some us networks and cable and satellite companies are worried about what it means for them in terms of advertising revenues as well as  brand identity  and viewer loyalty to channels. although the us leads in this technology at the moment  it is also a concern that is being raised in europe  particularly with the growing uptake of services like sky+.  what happens here today  we will see in nine months to a years  time in the uk   adam hume  the bbc broadcast s futurologist told the bbc news website. for the likes of the bbc  there are no issues of lost advertising revenue yet. it is a more pressing issue at the moment for commercial uk broadcasters  but brand loyalty is important for everyone.  we will be talking more about content brands rather than network brands   said tim hanlon  from brand communications firm starcom mediavest.  the reality is that with broadband connections  anybody can be the producer of content.  he added:  the challenge now is that it is hard to promote a programme with so much choice.   what this means  said stacey jolna  senior vice president of tv guide tv group  is that the way people find the content they want to watch has to be simplified for tv viewers. it means that networks  in us terms  or channels could take a leaf out of google s book and be the search engine of the future  instead of the scheduler to help people find what they want to watch. this kind of channel model might work for the younger ipod generation which is used to taking control of their gadgets and what they play on them. but it might not suit everyone  the panel recognised. older generations are more comfortable with familiar schedules and channel brands because they know what they are getting. they perhaps do not want so much of the choice put into their hands  mr hanlon suggested.  on the other end  you have the kids just out of diapers who are pushing buttons already - everything is possible and available to them   said mr hanlon.  ultimately  the consumer will tell the market they want.   of the 50 000 new gadgets and technologies being showcased at ces  many of them are about enhancing the tv-watching experience. high-definition tv sets are everywhere and many new models of lcd (liquid crystal display) tvs have been launched with dvr capability built into them  instead of being external boxes. one such example launched at the show is humax s 26-inch lcd tv with an 80-hour tivo dvr and dvd recorder. one of the us s biggest satellite tv companies  directtv  has even launched its own branded dvr at the show with 100-hours of recording capability  instant replay  and a search function. the set can pause and rewind tv for up to 90 hours. and microsoft chief bill gates announced in his pre-show keynote speech a partnership with tivo  called tivotogo  which means people can play recorded programmes on windows pcs and mobile devices. all these reflect the increasing trend of freeing up multimedia so that people can watch what they want  when they want.\n",
      "\n"
     ]
    }
   ],
   "source": [
    "# Opening the file train and test csv file \n",
    "with open(\"./bbc-text.csv\",'r') as f:\n",
    "    print(f\"training examples : {f.readline()}\")\n",
    "    print(f\"training examples : {f.readline()}\")"
   ]
  },
  {
   "cell_type": "code",
   "execution_count": 51,
   "id": "30e56bfc",
   "metadata": {},
   "outputs": [],
   "source": [
    "num_words = 1000\n",
    "max_length = 120\n",
    "embedding_dim = 16\n",
    "trunc_type='post'\n",
    "oov_tok = \"<OOV>\""
   ]
  },
  {
   "cell_type": "code",
   "execution_count": 52,
   "id": "ec4125d9",
   "metadata": {},
   "outputs": [
    {
     "data": {
      "text/plain": [
       "'go store get snack'"
      ]
     },
     "execution_count": 52,
     "metadata": {},
     "output_type": "execute_result"
    }
   ],
   "source": [
    "stop_words = [\"a\", \"about\", \"above\", \"after\", \"again\", \"against\", \"all\", \"am\", \"an\", \"and\", \"any\", \"are\", \"as\", \"at\", \"be\", \"because\", \"been\", \"before\", \"being\", \"below\", \"between\", \"both\", \"but\", \"by\", \"could\", \"did\", \"do\", \"does\", \"doing\", \"down\", \"during\", \"each\", \"few\", \"for\", \"from\", \"further\", \"had\", \"has\", \"have\", \"having\", \"he\", \"he'd\", \"he'll\", \"he's\", \"her\", \"here\", \"here's\", \"hers\", \"herself\", \"him\", \"himself\", \"his\", \"how\", \"how's\", \"i\", \"i'd\", \"i'll\", \"i'm\", \"i've\", \"if\", \"in\", \"into\", \"is\", \"it\", \"it's\", \"its\", \"itself\", \"let's\", \"me\", \"more\", \"most\", \"my\", \"myself\", \"nor\", \"of\", \"on\", \"once\", \"only\", \"or\", \"other\", \"ought\", \"our\", \"ours\", \"ourselves\", \"out\", \"over\", \"own\", \"same\", \"she\", \"she'd\", \"she'll\", \"she's\", \"should\", \"so\", \"some\", \"such\", \"than\", \"that\", \"that's\", \"the\", \"their\", \"theirs\", \"them\", \"themselves\", \"then\", \"there\", \"there's\", \"these\", \"they\", \"they'd\", \"they'll\", \"they're\", \"they've\", \"this\", \"those\", \"through\", \"to\", \"too\", \"under\", \"until\", \"up\", \"very\", \"was\", \"we\", \"we'd\", \"we'll\", \"we're\", \"we've\", \"were\", \"what\", \"what's\", \"when\", \"when's\", \"where\", \"where's\", \"which\", \"while\", \"who\", \"who's\", \"whom\", \"why\", \"why's\", \"with\", \"would\", \"you\", \"you'd\", \"you'll\", \"you're\", \"you've\", \"your\", \"yours\", \"yourself\", \"yourselves\"]\n",
    "def remove_stop_words(sentences):\n",
    "    sentences = sentences.lower()\n",
    "    word = sentences.split()\n",
    "    filtered_word = [i for i in word if i not in stop_words]\n",
    "    sentences = \" \".join(filtered_word)\n",
    "    return sentences\n",
    "\n",
    "remove_stop_words(\"I am about to go to the store and get any snack\")"
   ]
  },
  {
   "cell_type": "code",
   "execution_count": 53,
   "id": "b9c3514d",
   "metadata": {},
   "outputs": [
    {
     "name": "stdout",
     "output_type": "stream",
     "text": [
      "total sentences in the csv : 2225\n",
      "total labels in the csv : 2225\n",
      "first label example from the csv file :['tech']\n",
      "first removed_words sentences example from the csv file :3054\n",
      "first sentences example from the csv file :4333\n",
      "no.classes in the labels : 2225\n"
     ]
    }
   ],
   "source": [
    "import csv\n",
    "def parse_data(filename):\n",
    "    with open(filename,'r') as reader:\n",
    "        reader = csv.reader(reader,delimiter = ',')\n",
    "        next(reader)\n",
    "        labels = []\n",
    "        sentences = []\n",
    "        original_sentences = []\n",
    "        for i in reader:\n",
    "            original_sentences.append(i[1])\n",
    "            cleaned_sentences = remove_stop_words(i[1])\n",
    "            sentences.append(cleaned_sentences)\n",
    "            labels.append(i[0])\n",
    "            \n",
    "        return sentences,labels,original_sentences\n",
    "sentences,labels,original = parse_data(\"bbc-text.csv\")\n",
    "print(f\"total sentences in the csv : {len(sentences)}\")\n",
    "print(f\"total labels in the csv : {len(labels)}\")\n",
    "\n",
    "# Taking first example in the dataset \n",
    "print(f\"first label example from the csv file :{labels[:1]}\")\n",
    "print(f\"first removed_words sentences example from the csv file :{len(sentences[0])}\")\n",
    "print(f\"first sentences example from the csv file :{len(original[0])}\")\n",
    "print(f\"no.classes in the labels : {len(labels)}\")"
   ]
  },
  {
   "cell_type": "code",
   "execution_count": 54,
   "id": "279d4de3",
   "metadata": {},
   "outputs": [],
   "source": [
    "def train_test_split(training_size,sentences,labels):\n",
    "    train_sentences = sentences[:training_size]\n",
    "    train_labels = labels[:training_size]\n",
    "    \n",
    "    valid_sentences = sentences[training_size:]\n",
    "    valid_labels = labels[training_size:]\n",
    "    \n",
    "    return train_sentences,train_labels,valid_sentences,valid_labels\n",
    "\n",
    "train_sentences , train_labels , valid_sentences , valid_labels = train_test_split(1780,sentences,labels)"
   ]
  },
  {
   "cell_type": "code",
   "execution_count": 55,
   "id": "5607b842",
   "metadata": {},
   "outputs": [
    {
     "name": "stdout",
     "output_type": "stream",
     "text": [
      "There are 1780 sentences for training.\n",
      "\n",
      "There are 1780 labels for training.\n",
      "\n",
      "There are 445 sentences for validation.\n",
      "\n",
      "There are 445 labels for validation.\n"
     ]
    }
   ],
   "source": [
    "print(f\"There are {len(train_sentences)} sentences for training.\\n\")\n",
    "print(f\"There are {len(train_labels)} labels for training.\\n\")\n",
    "print(f\"There are {len(valid_sentences)} sentences for validation.\\n\")\n",
    "print(f\"There are {len(valid_labels)} labels for validation.\")"
   ]
  },
  {
   "cell_type": "code",
   "execution_count": 56,
   "id": "4ced957e",
   "metadata": {},
   "outputs": [
    {
     "name": "stdout",
     "output_type": "stream",
     "text": [
      "Total number of Word indexes : 27285 words\n"
     ]
    }
   ],
   "source": [
    "def fit_tokenizer(train_sentences):\n",
    "    # Initializer Tokenizer \n",
    "    tokenizer = Tokenizer(num_words = 1000,oov_token = \"<OOV>\")\n",
    "    # Fitting the tokenizer to the sentences\n",
    "    tokenizer.fit_on_texts(train_sentences)\n",
    "    \n",
    "    return tokenizer\n",
    "\n",
    "tokenizer = fit_tokenizer(train_sentences)\n",
    "word_indexs = tokenizer.word_index\n",
    "print(f\"Total number of Word indexes : {len(word_indexs)} words\")"
   ]
  },
  {
   "cell_type": "code",
   "execution_count": 59,
   "id": "b2c9a8d9",
   "metadata": {},
   "outputs": [],
   "source": [
    "def seq_and_pad(sentences,tokenizer):\n",
    "    # Getting the sequenced sentences in the form of tokens\n",
    "    sequence = tokenizer.texts_to_sequences(sentences)\n",
    "    # Padding is included to get the uniformity \n",
    "    padding = pad_sequences(sequence,padding = 'post',maxlen = 120)\n",
    "    return padding"
   ]
  },
  {
   "cell_type": "code",
   "execution_count": 60,
   "id": "0f43144e",
   "metadata": {},
   "outputs": [
    {
     "name": "stdout",
     "output_type": "stream",
     "text": [
      "Padded training sequences have shape: (1780, 120)\n",
      "\n",
      "Padded validation sequences have shape: (445, 120)\n"
     ]
    }
   ],
   "source": [
    "train_padded_seq = seq_and_pad(train_sentences, tokenizer)\n",
    "val_padded_seq = seq_and_pad(valid_sentences, tokenizer)\n",
    "\n",
    "print(f\"Padded training sequences have shape: {train_padded_seq.shape}\\n\")\n",
    "print(f\"Padded validation sequences have shape: {val_padded_seq.shape}\")"
   ]
  },
  {
   "cell_type": "code",
   "execution_count": 61,
   "id": "21f8fdd7",
   "metadata": {},
   "outputs": [],
   "source": [
    "def tokenize_labels(labels,train_labels):\n",
    "    # Initialize the tokenizer\n",
    "    tokenizer = Tokenizer()\n",
    "    # Use the tokenizer and fit on the text\n",
    "    tokenizer.fit_on_texts(labels)\n",
    "    # create the dictionary of words with index\n",
    "    label_word_indx = tokenizer.word_index\n",
    "    # Create the sequences for the labels\n",
    "    label_sequence = tokenizer.texts_to_sequences(train_labels)\n",
    "    # Padding to make uniform length\n",
    "    label_padding = pad_sequences(label_sequence,padding = 'post')\n",
    "    return label_padding"
   ]
  },
  {
   "cell_type": "code",
   "execution_count": 62,
   "id": "72ac8bde",
   "metadata": {},
   "outputs": [
    {
     "name": "stdout",
     "output_type": "stream",
     "text": [
      "First 5 labels of the training set should look like this:\n",
      "[[4]\n",
      " [2]\n",
      " [1]\n",
      " [1]\n",
      " [5]]\n",
      "\n",
      "First 5 labels of the validation set should look like this:\n",
      "[[5]\n",
      " [4]\n",
      " [3]\n",
      " [1]\n",
      " [1]]\n",
      "\n",
      "Tokenized labels of the training set have shape: (1780, 1)\n",
      "\n",
      "Tokenized labels of the validation set have shape: (445, 1)\n",
      "\n"
     ]
    }
   ],
   "source": [
    "train_label_seq = tokenize_labels(labels, train_labels)\n",
    "val_label_seq = tokenize_labels(labels, valid_labels)\n",
    "\n",
    "print(f\"First 5 labels of the training set should look like this:\\n{train_label_seq[:5]}\\n\")\n",
    "print(f\"First 5 labels of the validation set should look like this:\\n{val_label_seq[:5]}\\n\")\n",
    "print(f\"Tokenized labels of the training set have shape: {train_label_seq.shape}\\n\")\n",
    "print(f\"Tokenized labels of the validation set have shape: {val_label_seq.shape}\\n\")"
   ]
  },
  {
   "cell_type": "code",
   "execution_count": 63,
   "id": "632485ca",
   "metadata": {},
   "outputs": [],
   "source": [
    "from tensorflow.keras.models import Sequential\n",
    "from tensorflow.keras.layers import Dense\n",
    "from tensorflow.keras.losses import CategoricalCrossentropy\n",
    "from tensorflow.keras.optimizers import Adam\n",
    "\n",
    "def create_model(num_words,embedding_dim,maxlen):\n",
    "    model = tf.keras.Sequential([\n",
    "    tf.keras.layers.Embedding(num_words, embedding_dim, input_length=maxlen),\n",
    "    tf.keras.layers.GlobalAveragePooling1D(),\n",
    "    tf.keras.layers.Flatten(),\n",
    "    tf.keras.layers.Dense(24, activation='relu'),\n",
    "    tf.keras.layers.Dense(6, activation='softmax')\n",
    "])\n",
    "    model.compile(loss='sparse_categorical_crossentropy',\n",
    "                  optimizer='adam',\n",
    "                  metrics=['accuracy'])\n",
    "    return model"
   ]
  },
  {
   "cell_type": "code",
   "execution_count": 64,
   "id": "d452603b",
   "metadata": {},
   "outputs": [
    {
     "name": "stdout",
     "output_type": "stream",
     "text": [
      "Model: \"sequential_1\"\n",
      "_________________________________________________________________\n",
      " Layer (type)                Output Shape              Param #   \n",
      "=================================================================\n",
      " embedding_1 (Embedding)     (None, 120, 16)           16000     \n",
      "                                                                 \n",
      " global_average_pooling1d_1   (None, 16)               0         \n",
      " (GlobalAveragePooling1D)                                        \n",
      "                                                                 \n",
      " flatten_1 (Flatten)         (None, 16)                0         \n",
      "                                                                 \n",
      " dense_2 (Dense)             (None, 24)                408       \n",
      "                                                                 \n",
      " dense_3 (Dense)             (None, 6)                 150       \n",
      "                                                                 \n",
      "=================================================================\n",
      "Total params: 16,558\n",
      "Trainable params: 16,558\n",
      "Non-trainable params: 0\n",
      "_________________________________________________________________\n"
     ]
    }
   ],
   "source": [
    "model = create_model(num_words,embedding_dim,max_length)\n",
    "model.summary()"
   ]
  },
  {
   "cell_type": "code",
   "execution_count": 65,
   "id": "8944a896",
   "metadata": {},
   "outputs": [
    {
     "name": "stdout",
     "output_type": "stream",
     "text": [
      "Epoch 1/30\n",
      "56/56 [==============================] - 4s 11ms/step - loss: 1.7645 - accuracy: 0.3292 - val_loss: 1.7307 - val_accuracy: 0.2966\n",
      "Epoch 2/30\n",
      "56/56 [==============================] - 0s 4ms/step - loss: 1.6905 - accuracy: 0.2775 - val_loss: 1.6470 - val_accuracy: 0.3618\n",
      "Epoch 3/30\n",
      "56/56 [==============================] - 0s 4ms/step - loss: 1.6047 - accuracy: 0.3848 - val_loss: 1.5618 - val_accuracy: 0.4382\n",
      "Epoch 4/30\n",
      "56/56 [==============================] - 0s 4ms/step - loss: 1.5069 - accuracy: 0.4343 - val_loss: 1.4629 - val_accuracy: 0.4382\n",
      "Epoch 5/30\n",
      "56/56 [==============================] - 0s 4ms/step - loss: 1.3751 - accuracy: 0.4584 - val_loss: 1.3146 - val_accuracy: 0.5326\n",
      "Epoch 6/30\n",
      "56/56 [==============================] - 0s 4ms/step - loss: 1.2024 - accuracy: 0.6275 - val_loss: 1.1410 - val_accuracy: 0.6854\n",
      "Epoch 7/30\n",
      "56/56 [==============================] - 0s 4ms/step - loss: 1.0215 - accuracy: 0.7388 - val_loss: 0.9767 - val_accuracy: 0.7978\n",
      "Epoch 8/30\n",
      "56/56 [==============================] - 0s 4ms/step - loss: 0.8601 - accuracy: 0.8034 - val_loss: 0.8388 - val_accuracy: 0.8022\n",
      "Epoch 9/30\n",
      "56/56 [==============================] - 0s 4ms/step - loss: 0.7276 - accuracy: 0.8539 - val_loss: 0.7206 - val_accuracy: 0.8315\n",
      "Epoch 10/30\n",
      "56/56 [==============================] - 0s 4ms/step - loss: 0.6108 - accuracy: 0.8843 - val_loss: 0.6188 - val_accuracy: 0.8562\n",
      "Epoch 11/30\n",
      "56/56 [==============================] - 0s 5ms/step - loss: 0.5070 - accuracy: 0.9124 - val_loss: 0.5280 - val_accuracy: 0.8831\n",
      "Epoch 12/30\n",
      "56/56 [==============================] - 0s 4ms/step - loss: 0.4141 - accuracy: 0.9371 - val_loss: 0.4593 - val_accuracy: 0.8966\n",
      "Epoch 13/30\n",
      "56/56 [==============================] - 0s 4ms/step - loss: 0.3427 - accuracy: 0.9478 - val_loss: 0.3963 - val_accuracy: 0.8989\n",
      "Epoch 14/30\n",
      "56/56 [==============================] - 0s 5ms/step - loss: 0.2868 - accuracy: 0.9511 - val_loss: 0.3591 - val_accuracy: 0.9146\n",
      "Epoch 15/30\n",
      "56/56 [==============================] - 0s 4ms/step - loss: 0.2465 - accuracy: 0.9551 - val_loss: 0.3261 - val_accuracy: 0.9146\n",
      "Epoch 16/30\n",
      "56/56 [==============================] - 0s 4ms/step - loss: 0.2129 - accuracy: 0.9596 - val_loss: 0.3046 - val_accuracy: 0.9169\n",
      "Epoch 17/30\n",
      "56/56 [==============================] - 0s 5ms/step - loss: 0.1872 - accuracy: 0.9640 - val_loss: 0.2895 - val_accuracy: 0.9236\n",
      "Epoch 18/30\n",
      "56/56 [==============================] - 0s 4ms/step - loss: 0.1663 - accuracy: 0.9719 - val_loss: 0.2740 - val_accuracy: 0.9258\n",
      "Epoch 19/30\n",
      "56/56 [==============================] - 0s 4ms/step - loss: 0.1482 - accuracy: 0.9742 - val_loss: 0.2632 - val_accuracy: 0.9281\n",
      "Epoch 20/30\n",
      "56/56 [==============================] - 0s 4ms/step - loss: 0.1334 - accuracy: 0.9770 - val_loss: 0.2581 - val_accuracy: 0.9258\n",
      "Epoch 21/30\n",
      "56/56 [==============================] - 0s 4ms/step - loss: 0.1207 - accuracy: 0.9831 - val_loss: 0.2461 - val_accuracy: 0.9348\n",
      "Epoch 22/30\n",
      "56/56 [==============================] - 0s 4ms/step - loss: 0.1096 - accuracy: 0.9854 - val_loss: 0.2414 - val_accuracy: 0.9393\n",
      "Epoch 23/30\n",
      "56/56 [==============================] - 0s 4ms/step - loss: 0.0992 - accuracy: 0.9871 - val_loss: 0.2403 - val_accuracy: 0.9371\n",
      "Epoch 24/30\n",
      "56/56 [==============================] - 0s 4ms/step - loss: 0.0909 - accuracy: 0.9893 - val_loss: 0.2317 - val_accuracy: 0.9393\n",
      "Epoch 25/30\n",
      "56/56 [==============================] - 0s 4ms/step - loss: 0.0829 - accuracy: 0.9921 - val_loss: 0.2297 - val_accuracy: 0.9393\n",
      "Epoch 26/30\n",
      "56/56 [==============================] - 0s 4ms/step - loss: 0.0757 - accuracy: 0.9921 - val_loss: 0.2276 - val_accuracy: 0.9438\n",
      "Epoch 27/30\n",
      "56/56 [==============================] - 0s 4ms/step - loss: 0.0690 - accuracy: 0.9927 - val_loss: 0.2250 - val_accuracy: 0.9371\n",
      "Epoch 28/30\n",
      "56/56 [==============================] - 0s 4ms/step - loss: 0.0638 - accuracy: 0.9927 - val_loss: 0.2222 - val_accuracy: 0.9393\n",
      "Epoch 29/30\n",
      "56/56 [==============================] - 0s 4ms/step - loss: 0.0578 - accuracy: 0.9966 - val_loss: 0.2222 - val_accuracy: 0.9416\n",
      "Epoch 30/30\n",
      "56/56 [==============================] - 0s 4ms/step - loss: 0.0530 - accuracy: 0.9978 - val_loss: 0.2200 - val_accuracy: 0.9393\n"
     ]
    }
   ],
   "source": [
    "history = model.fit(train_padded_seq,train_label_seq,epochs = 30 ,validation_data = (val_padded_seq,val_label_seq))"
   ]
  },
  {
   "cell_type": "code",
   "execution_count": 69,
   "id": "daba41e6",
   "metadata": {},
   "outputs": [
    {
     "data": {
      "image/png": "[encoded data removed]",
      "text/plain": [
       "<Figure size 640x480 with 1 Axes>"
      ]
     },
     "metadata": {},
     "output_type": "display_data"
    },
    {
     "data": {
      "image/png": "[encoded data removed]",
      "text/plain": [
       "<Figure size 640x480 with 1 Axes>"
      ]
     },
     "metadata": {},
     "output_type": "display_data"
    }
   ],
   "source": [
    "def plot_graphs(history, metric):\n",
    "    plt.plot(history.history[metric])\n",
    "    plt.plot(history.history[f'val_{metric}'])\n",
    "    plt.xlabel(\"Epochs\")\n",
    "    plt.ylabel(metric)\n",
    "    plt.legend([metric, f'val_{metric}'])\n",
    "    plt.show()\n",
    "    \n",
    "plot_graphs(history, \"accuracy\")\n",
    "plot_graphs(history, \"loss\")"
   ]
  },
  {
   "cell_type": "code",
   "execution_count": null,
   "id": "330e59a4",
   "metadata": {},
   "outputs": [],
   "source": []
  },
  {
   "cell_type": "code",
   "execution_count": null,
   "id": "c7d73c73",
   "metadata": {},
   "outputs": [],
   "source": []
  },
  {
   "cell_type": "code",
   "execution_count": null,
   "id": "2590d2df",
   "metadata": {},
   "outputs": [],
   "source": []
  }
 ],
 "metadata": {
  "kernelspec": {
   "display_name": "Python 3 (ipykernel)",
   "language": "python",
   "name": "python3"
  },
  "language_info": {
   "codemirror_mode": {
    "name": "ipython",
    "version": 3
   },
   "file_extension": ".py",
   "mimetype": "text/x-python",
   "name": "python",
   "nbconvert_exporter": "python",
   "pygments_lexer": "ipython3",
   "version": "3.9.7"
  }
 },
 "nbformat": 4,
 "nbformat_minor": 5
}
