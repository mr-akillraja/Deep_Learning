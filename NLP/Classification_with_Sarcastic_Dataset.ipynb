{
 "cells": [
  {
   "cell_type": "markdown",
   "id": "f9a47fde",
   "metadata": {},
   "source": [
    "# Sarcasm Classification "
   ]
  },
  {
   "cell_type": "code",
   "execution_count": 1,
   "id": "94c12c43",
   "metadata": {},
   "outputs": [
    {
     "name": "stderr",
     "output_type": "stream",
     "text": [
      "--2023-09-14 13:25:37--  https://storage.googleapis.com/tensorflow-1-public/course3/sarcasm.json\n",
      "Resolving storage.googleapis.com (storage.googleapis.com)... 142.250.67.155, 142.250.199.155, 142.250.183.59, ...\n",
      "Connecting to storage.googleapis.com (storage.googleapis.com)|142.250.67.155|:443... connected.\n",
      "HTTP request sent, awaiting response... 200 OK\n",
      "Length: 5643545 (5.4M) [application/json]\n",
      "Saving to: 'sarcasm.json.1'\n",
      "\n",
      "     0K .......... .......... .......... .......... ..........  0%  198K 28s\n",
      "    50K .......... .......... .......... .......... ..........  1%  191K 28s\n",
      "   100K .......... .......... .......... .......... ..........  2%  591K 21s\n",
      "   150K .......... .......... .......... .......... ..........  3%  388K 19s\n",
      "   200K .......... .......... .......... .......... ..........  4% 1.01M 16s\n",
      "   250K .......... .......... .......... .......... ..........  5%  617K 15s\n",
      "   300K .......... .......... .......... .......... ..........  6%  934K 13s\n",
      "   350K .......... .......... .......... .......... ..........  7%  737K 12s\n",
      "   400K .......... .......... .......... .......... ..........  8% 1.66M 11s\n",
      "   450K .......... .......... .......... .......... ..........  9% 1.94M 10s\n",
      "   500K .......... .......... .......... .......... ..........  9% 1.55M 10s\n",
      "   550K .......... .......... .......... .......... .......... 10% 1.40M 9s\n",
      "   600K .......... .......... .......... .......... .......... 11% 2.11M 8s\n",
      "   650K .......... .......... .......... .......... .......... 12% 1.97M 8s\n",
      "   700K .......... .......... .......... .......... .......... 13% 1.77M 7s\n",
      "   750K .......... .......... .......... .......... .......... 14% 1.57M 7s\n",
      "   800K .......... .......... .......... .......... .......... 15% 2.01M 7s\n",
      "   850K .......... .......... .......... .......... .......... 16% 2.42M 6s\n",
      "   900K .......... .......... .......... .......... .......... 17% 2.55M 6s\n",
      "   950K .......... .......... .......... .......... .......... 18% 2.73M 6s\n",
      "  1000K .......... .......... .......... .......... .......... 19% 3.17M 6s\n",
      "  1050K .......... .......... .......... .......... .......... 19% 3.04M 5s\n",
      "  1100K .......... .......... .......... .......... .......... 20% 3.82M 5s\n",
      "  1150K .......... .......... .......... .......... .......... 21% 2.18M 5s\n",
      "  1200K .......... .......... .......... .......... .......... 22% 8.46M 5s\n",
      "  1250K .......... .......... .......... .......... .......... 23% 4.06M 4s\n",
      "  1300K .......... .......... .......... .......... .......... 24% 4.74M 4s\n",
      "  1350K .......... .......... .......... .......... .......... 25% 4.22M 4s\n",
      "  1400K .......... .......... .......... .......... .......... 26% 3.99M 4s\n",
      "  1450K .......... .......... .......... .......... .......... 27% 5.13M 4s\n",
      "  1500K .......... .......... .......... .......... .......... 28% 4.96M 4s\n",
      "  1550K .......... .......... .......... .......... .......... 29% 3.44M 4s\n",
      "  1600K .......... .......... .......... .......... .......... 29% 3.90M 3s\n",
      "  1650K .......... .......... .......... .......... .......... 30% 7.67M 3s\n",
      "  1700K .......... .......... .......... .......... .......... 31% 5.61M 3s\n",
      "  1750K .......... .......... .......... .......... .......... 32% 4.58M 3s\n",
      "  1800K .......... .......... .......... .......... .......... 33% 5.09M 3s\n",
      "  1850K .......... .......... .......... .......... .......... 34% 5.29M 3s\n",
      "  1900K .......... .......... .......... .......... .......... 35% 6.39M 3s\n",
      "  1950K .......... .......... .......... .......... .......... 36% 4.37M 3s\n",
      "  2000K .......... .......... .......... .......... .......... 37% 5.56M 3s\n",
      "  2050K .......... .......... .......... .......... .......... 38% 3.89M 2s\n",
      "  2100K .......... .......... .......... .......... .......... 39% 19.1M 2s\n",
      "  2150K .......... .......... .......... .......... .......... 39% 5.89M 2s\n",
      "  2200K .......... .......... .......... .......... .......... 40% 6.24M 2s\n",
      "  2250K .......... .......... .......... .......... .......... 41% 5.46M 2s\n",
      "  2300K .......... .......... .......... .......... .......... 42% 6.21M 2s\n",
      "  2350K .......... .......... .......... .......... .......... 43% 7.07M 2s\n",
      "  2400K .......... .......... .......... .......... .......... 44% 5.41M 2s\n",
      "  2450K .......... .......... .......... .......... .......... 45% 3.83M 2s\n",
      "  2500K .......... .......... .......... .......... .......... 46% 19.2M 2s\n",
      "  2550K .......... .......... .......... .......... .......... 47% 6.60M 2s\n",
      "  2600K .......... .......... .......... .......... .......... 48% 11.3M 2s\n",
      "  2650K .......... .......... .......... .......... .......... 48% 6.79M 2s\n",
      "  2700K .......... .......... .......... .......... .......... 49% 16.0M 2s\n",
      "  2750K .......... .......... .......... .......... .......... 50% 11.4M 2s\n",
      "  2800K .......... .......... .......... .......... .......... 51% 3.63M 2s\n",
      "  2850K .......... .......... .......... .......... .......... 52% 8.79M 1s\n",
      "  2900K .......... .......... .......... .......... .......... 53% 3.90M 1s\n",
      "  2950K .......... .......... .......... .......... .......... 54% 49.1M 1s\n",
      "  3000K .......... .......... .......... .......... .......... 55% 11.9M 1s\n",
      "  3050K .......... .......... .......... .......... .......... 56% 6.87M 1s\n",
      "  3100K .......... .......... .......... .......... .......... 57% 62.2M 1s\n",
      "  3150K .......... .......... .......... .......... .......... 58% 5.53M 1s\n",
      "  3200K .......... .......... .......... .......... .......... 58% 5.96M 1s\n",
      "  3250K .......... .......... .......... .......... .......... 59% 68.5M 1s\n",
      "  3300K .......... .......... .......... .......... .......... 60% 16.4M 1s\n",
      "  3350K .......... .......... .......... .......... .......... 61% 17.8M 1s\n",
      "  3400K .......... .......... .......... .......... .......... 62% 4.71M 1s\n",
      "  3450K .......... .......... .......... .......... .......... 63%  111M 1s\n",
      "  3500K .......... .......... .......... .......... .......... 64% 16.0M 1s\n",
      "  3550K .......... .......... .......... .......... .......... 65% 8.35M 1s\n",
      "  3600K .......... .......... .......... .......... .......... 66% 5.86M 1s\n",
      "  3650K .......... .......... .......... .......... .......... 67% 83.3M 1s\n",
      "  3700K .......... .......... .......... .......... .......... 68% 6.32M 1s\n",
      "  3750K .......... .......... .......... .......... .......... 68% 17.7M 1s\n",
      "  3800K .......... .......... .......... .......... .......... 69% 7.66M 1s\n",
      "  3850K .......... .......... .......... .......... .......... 70% 76.5M 1s\n",
      "  3900K .......... .......... .......... .......... .......... 71% 14.1M 1s\n",
      "  3950K .......... .......... .......... .......... .......... 72% 5.54M 1s\n",
      "  4000K .......... .......... .......... .......... .......... 73% 13.0M 1s\n",
      "  4050K .......... .......... .......... .......... .......... 74% 8.91M 1s\n",
      "  4100K .......... .......... .......... .......... .......... 75% 10.1M 1s\n",
      "  4150K .......... .......... .......... .......... .......... 76% 12.5M 1s\n",
      "  4200K .......... .......... .......... .......... .......... 77% 46.7M 1s\n",
      "  4250K .......... .......... .......... .......... .......... 78% 74.4M 1s\n",
      "  4300K .......... .......... .......... .......... .......... 78% 4.00M 0s\n",
      "  4350K .......... .......... .......... .......... .......... 79% 14.9M 0s\n",
      "  4400K .......... .......... .......... .......... .......... 80% 86.0M 0s\n",
      "  4450K .......... .......... .......... .......... .......... 81% 15.7M 0s\n",
      "  4500K .......... .......... .......... .......... .......... 82% 5.19M 0s\n",
      "  4550K .......... .......... .......... .......... .......... 83% 34.8M 0s\n",
      "  4600K .......... .......... .......... .......... .......... 84% 5.46M 0s\n",
      "  4650K .......... .......... .......... .......... .......... 85%  112M 0s\n",
      "  4700K .......... .......... .......... .......... .......... 86% 6.87M 0s\n",
      "  4750K .......... .......... .......... .......... .......... 87% 14.5M 0s\n",
      "  4800K .......... .......... .......... .......... .......... 88% 89.9M 0s\n",
      "  4850K .......... .......... .......... .......... .......... 88% 11.6M 0s\n",
      "  4900K .......... .......... .......... .......... .......... 89% 6.14M 0s\n",
      "  4950K .......... .......... .......... .......... .......... 90% 63.5M 0s\n",
      "  5000K .......... .......... .......... .......... .......... 91% 20.9M 0s\n",
      "  5050K .......... .......... .......... .......... .......... 92% 3.96M 0s\n",
      "  5100K .......... .......... .......... .......... .......... 93% 32.9M 0s\n",
      "  5150K .......... .......... .......... .......... .......... 94% 52.6M 0s\n",
      "  5200K .......... .......... .......... .......... .......... 95% 5.91M 0s\n",
      "  5250K .......... .......... .......... .......... .......... 96% 65.4M 0s\n",
      "  5300K .......... .......... .......... .......... .......... 97% 3.48M 0s\n",
      "  5350K .......... .......... .......... .......... .......... 97% 45.9M 0s\n",
      "  5400K .......... .......... .......... .......... .......... 98% 5.33M 0s\n",
      "  5450K .......... .......... .......... .......... .......... 99% 8.07M 0s\n",
      "  5500K .......... .                                          100% 51.9M=1.9s\n",
      "\n",
      "2023-09-14 13:25:40 (2.84 MB/s) - 'sarcasm.json.1' saved [5643545/5643545]\n",
      "\n"
     ]
    }
   ],
   "source": [
    "# Download the dataset\n",
    "!wget https://storage.googleapis.com/tensorflow-1-public/course3/sarcasm.json"
   ]
  },
  {
   "cell_type": "code",
   "execution_count": 3,
   "id": "4108ecb2",
   "metadata": {},
   "outputs": [],
   "source": [
    "import numpy as np\n",
    "import matplotlib.pyplot as plt\n",
    "import tensorflow as tf\n",
    "import json\n",
    "from tensorflow.keras.preprocessing.text import Tokenizer\n",
    "from tensorflow.keras.preprocessing.sequence import pad_sequences"
   ]
  },
  {
   "cell_type": "code",
   "execution_count": 14,
   "id": "c15d6ffa",
   "metadata": {},
   "outputs": [
    {
     "name": "stdout",
     "output_type": "stream",
     "text": [
      "total number of sentences : 26709\n",
      "total number of labels : 26709\n",
      "first example sentence: former versace store clerk sues over secret 'black code' for minority shoppers\n",
      "first example label : 0\n"
     ]
    }
   ],
   "source": [
    "with open(\"./sarcasm.json\",'r') as file:\n",
    "    datastore = json.load(file)\n",
    "sentences = []\n",
    "labels = []\n",
    "for item in datastore:\n",
    "    sentences.append(item['headline'])\n",
    "    labels.append(item['is_sarcastic'])\n",
    "print(f\"total number of sentences : {len(sentences)}\")\n",
    "print(f\"total number of labels : {len(labels)}\")\n",
    "# Printing the first examples \n",
    "print(f\"first example sentence: {sentences[0]}\")\n",
    "print(f\"first example label : {labels[0]}\")"
   ]
  },
  {
   "cell_type": "code",
   "execution_count": 30,
   "id": "8fb7b985",
   "metadata": {},
   "outputs": [],
   "source": [
    "def train_test_split(training_size,sentences,labels):\n",
    "    train_sentences = sentences[:training_size]\n",
    "    train_labels = labels[:training_size]\n",
    "    \n",
    "    valid_sentences = sentences[training_size:]\n",
    "    valid_labels = labels[training_size:]\n",
    "    return train_sentences,train_labels,valid_sentences,valid_labels\n",
    "\n",
    "train_sentences ,train_labels,valid_sentences,valid_labels = train_test_split(20000,sentences,labels)"
   ]
  },
  {
   "cell_type": "code",
   "execution_count": 48,
   "id": "3ef38ca4",
   "metadata": {},
   "outputs": [
    {
     "name": "stdout",
     "output_type": "stream",
     "text": [
      "no . of tokens present 25637\n",
      "first example original : former versace store clerk sues over secret 'black code' for minority shoppers\n",
      "first example sequence : [328, 1, 799, 3405, 2404, 47, 389, 2214, 1, 6, 2614, 8863]\n",
      "first example padded : [ 328    1  799 3405 2404   47  389 2214    1    6 2614 8863    0    0\n",
      "    0    0    0    0    0    0    0    0    0    0    0    0    0    0\n",
      "    0    0    0    0]\n",
      "\n",
      "original example test : pediatricians announce 2011 newborns are ugliest babies in 30 years\n",
      "sequence test example : [1, 1100, 6663, 9423, 30, 1, 2439, 5, 519, 109]\n",
      "padding test example :[   1 1100 6663 9423   30    1 2439    5  519  109    0    0    0    0\n",
      "    0    0    0    0    0    0    0    0    0    0    0    0    0    0\n",
      "    0    0    0    0]\n"
     ]
    }
   ],
   "source": [
    "tokenizer = Tokenizer(num_words = 10000,oov_token = '<OOv>')\n",
    "tokenizer.fit_on_texts(train_sentences)\n",
    "word_indx = tokenizer.word_index\n",
    "sequences = tokenizer.texts_to_sequences(train_sentences)\n",
    "padding = pad_sequences(sequences,maxlen = 32,padding = 'post')\n",
    "print(f\"no . of tokens present {len(word_indx)}\")\n",
    "print(f\"first example original : {train_sentences[0]}\")\n",
    "print(f\"first example sequence : {sequences[0]}\")\n",
    "print(f\"first example padded : {padding[0]}\")\n",
    "\n",
    "# Test set\n",
    "test_seq = tokenizer.texts_to_sequences(valid_sentences)\n",
    "test_pad = pad_sequences(test_seq,maxlen = 32,padding = 'post')\n",
    "print()\n",
    "print(f\"original example test : {valid_sentences[0]}\")\n",
    "print(f\"sequence test example : {test_seq[0]}\")\n",
    "print(f\"padding test example :{test_pad[0]}\")\n",
    "\n",
    "\n",
    "# Convert the labels into numpy array\n",
    "train_labels = np.array(train_labels)\n",
    "valid_labels = np.array(valid_labels)"
   ]
  },
  {
   "cell_type": "code",
   "execution_count": 55,
   "id": "759d025f",
   "metadata": {},
   "outputs": [],
   "source": [
    "# Model architecture\n",
    "model = tf.keras.models.Sequential([\n",
    "    tf.keras.layers.Embedding(10000,16,input_length = 32),\n",
    "    tf.keras.layers.GlobalAveragePooling1D(),\n",
    "    tf.keras.layers.Dense(24,activation = 'relu'),\n",
    "    tf.keras.layers.Dense(1,activation = 'sigmoid')\n",
    "])\n",
    "model.compile(loss='binary_crossentropy',\n",
    "             optimizer = 'adam',\n",
    "             metrics = ['accuracy'])"
   ]
  },
  {
   "cell_type": "code",
   "execution_count": 56,
   "id": "0833d9bc",
   "metadata": {},
   "outputs": [
    {
     "name": "stdout",
     "output_type": "stream",
     "text": [
      "Model: \"sequential_3\"\n",
      "_________________________________________________________________\n",
      " Layer (type)                Output Shape              Param #   \n",
      "=================================================================\n",
      " embedding_3 (Embedding)     (None, 32, 16)            160000    \n",
      "                                                                 \n",
      " global_average_pooling1d_2   (None, 16)               0         \n",
      " (GlobalAveragePooling1D)                                        \n",
      "                                                                 \n",
      " dense_4 (Dense)             (None, 24)                408       \n",
      "                                                                 \n",
      " dense_5 (Dense)             (None, 1)                 25        \n",
      "                                                                 \n",
      "=================================================================\n",
      "Total params: 160,433\n",
      "Trainable params: 160,433\n",
      "Non-trainable params: 0\n",
      "_________________________________________________________________\n"
     ]
    }
   ],
   "source": [
    "model.summary()"
   ]
  },
  {
   "cell_type": "code",
   "execution_count": 58,
   "id": "5b1f98ea",
   "metadata": {},
   "outputs": [
    {
     "name": "stdout",
     "output_type": "stream",
     "text": [
      "Epoch 1/10\n",
      "625/625 [==============================] - 7s 5ms/step - loss: 0.5689 - accuracy: 0.7043 - val_loss: 0.3996 - val_accuracy: 0.8386\n",
      "Epoch 2/10\n",
      "625/625 [==============================] - 3s 4ms/step - loss: 0.3139 - accuracy: 0.8732 - val_loss: 0.3413 - val_accuracy: 0.8568\n",
      "Epoch 3/10\n",
      "625/625 [==============================] - 2s 4ms/step - loss: 0.2363 - accuracy: 0.9067 - val_loss: 0.3409 - val_accuracy: 0.8498\n",
      "Epoch 4/10\n",
      "625/625 [==============================] - 2s 4ms/step - loss: 0.1920 - accuracy: 0.9278 - val_loss: 0.3525 - val_accuracy: 0.8550\n",
      "Epoch 5/10\n",
      "625/625 [==============================] - 3s 4ms/step - loss: 0.1596 - accuracy: 0.9414 - val_loss: 0.3798 - val_accuracy: 0.8474\n",
      "Epoch 6/10\n",
      "625/625 [==============================] - 3s 4ms/step - loss: 0.1351 - accuracy: 0.9517 - val_loss: 0.4061 - val_accuracy: 0.8466\n",
      "Epoch 7/10\n",
      "625/625 [==============================] - 3s 4ms/step - loss: 0.1160 - accuracy: 0.9606 - val_loss: 0.4534 - val_accuracy: 0.8402\n",
      "Epoch 8/10\n",
      "625/625 [==============================] - 3s 4ms/step - loss: 0.1008 - accuracy: 0.9668 - val_loss: 0.4828 - val_accuracy: 0.8413\n",
      "Epoch 9/10\n",
      "625/625 [==============================] - 2s 4ms/step - loss: 0.0887 - accuracy: 0.9711 - val_loss: 0.5159 - val_accuracy: 0.8351\n",
      "Epoch 10/10\n",
      "625/625 [==============================] - 3s 4ms/step - loss: 0.0771 - accuracy: 0.9754 - val_loss: 0.5866 - val_accuracy: 0.8304\n"
     ]
    }
   ],
   "source": [
    "history = model.fit(padding,train_labels,epochs=10,validation_data=(test_pad,valid_labels),verbose = 1)"
   ]
  },
  {
   "cell_type": "code",
   "execution_count": 59,
   "id": "14bc706a",
   "metadata": {},
   "outputs": [
    {
     "data": {
      "image/png": "[encoded data removed]",
      "text/plain": [
       "<Figure size 640x480 with 1 Axes>"
      ]
     },
     "metadata": {},
     "output_type": "display_data"
    },
    {
     "data": {
      "image/png": "[encoded data removed]",
      "text/plain": [
       "<Figure size 640x480 with 1 Axes>"
      ]
     },
     "metadata": {},
     "output_type": "display_data"
    }
   ],
   "source": [
    "import matplotlib.pyplot as plt\n",
    "\n",
    "# Plot utility\n",
    "def plot_graphs(history, string):\n",
    "    plt.plot(history.history[string])\n",
    "    plt.plot(history.history['val_'+string])\n",
    "    plt.xlabel(\"Epochs\")\n",
    "    plt.ylabel(string)\n",
    "    plt.legend([string, 'val_'+string])\n",
    "    plt.show()\n",
    "\n",
    "# Plot the accuracy and loss\n",
    "plot_graphs(history, \"accuracy\")\n",
    "plot_graphs(history, \"loss\")"
   ]
  },
  {
   "cell_type": "code",
   "execution_count": null,
   "id": "2882839e",
   "metadata": {},
   "outputs": [],
   "source": []
  }
 ],
 "metadata": {
  "kernelspec": {
   "display_name": "Python 3 (ipykernel)",
   "language": "python",
   "name": "python3"
  },
  "language_info": {
   "codemirror_mode": {
    "name": "ipython",
    "version": 3
   },
   "file_extension": ".py",
   "mimetype": "text/x-python",
   "name": "python",
   "nbconvert_exporter": "python",
   "pygments_lexer": "ipython3",
   "version": "3.9.7"
  }
 },
 "nbformat": 4,
 "nbformat_minor": 5
}
