{
 "cells": [
  {
   "cell_type": "code",
   "execution_count": 2,
   "id": "59f82af7",
   "metadata": {},
   "outputs": [],
   "source": [
    "import tensorflow as tf\n",
    "from tensorflow import keras\n",
    "from tensorflow.keras.preprocessing.text import Tokenizer\n",
    "from tensorflow.keras.preprocessing.sequence import pad_sequences"
   ]
  },
  {
   "cell_type": "markdown",
   "id": "e9da844e",
   "metadata": {},
   "source": [
    "## Tokenization\n",
    "- No case sensetive \n",
    "- Doesn't make index for special symbols\n",
    "\n",
    "## Sequences\n",
    "- arranging the sentences in the form given as token values"
   ]
  },
  {
   "cell_type": "code",
   "execution_count": 3,
   "id": "ef96df27",
   "metadata": {},
   "outputs": [
    {
     "name": "stdout",
     "output_type": "stream",
     "text": [
      "tokens_dictionary :{'<OOV>': 1, 'my': 2, 'love': 3, 'dog': 4, 'i': 5, 'you': 6, 'cat': 7, 'do': 8, 'think': 9, 'is': 10, 'amazing': 11}\n",
      "sequences : [[5, 3, 2, 4], [5, 3, 2, 7], [6, 3, 2, 4], [8, 6, 9, 2, 4, 10, 11]]\n"
     ]
    }
   ],
   "source": [
    "sentences = [\n",
    "    'I love my dog',\n",
    "    'I love my cat',\n",
    "    'You love my dog!',\n",
    "    'Do you think my dog is amazing?'\n",
    "]\n",
    "\n",
    "# Generating the tokens of the above sentences\n",
    "tokenizer = Tokenizer(num_words = 100,oov_token = '<OOV>')\n",
    "# assigning tokens to the senetences\n",
    "tokenizer.fit_on_texts(sentences)\n",
    "#  Creating words with tokens as a dictionary\n",
    "word_index = tokenizer.word_index\n",
    "print(f\"tokens_dictionary :{word_index}\")\n",
    "# Arranging the tokens in the form of sentences\n",
    "sequences = tokenizer.texts_to_sequences(sentences)\n",
    "print(f\"sequences : {sequences}\")"
   ]
  },
  {
   "cell_type": "markdown",
   "id": "3dd30731",
   "metadata": {},
   "source": [
    "## Padding \n",
    "- Adding uniformity to the matrix of the sequenced sentences"
   ]
  },
  {
   "cell_type": "code",
   "execution_count": 4,
   "id": "d4a122d2",
   "metadata": {},
   "outputs": [
    {
     "name": "stdout",
     "output_type": "stream",
     "text": [
      "tokens_dictionary :{'<OOV>': 1, 'my': 2, 'love': 3, 'dog': 4, 'i': 5, 'you': 6, 'cat': 7, 'do': 8, 'think': 9, 'is': 10, 'amazing': 11}\n",
      "sequences : [[5, 3, 2, 4], [5, 3, 2, 7], [6, 3, 2, 4], [8, 6, 9, 2, 4, 10, 11]]\n",
      "padded_sequenced sentences with padding = 'pre'\n",
      "[[ 0  0  0  0  0  0  5  3  2  4]\n",
      " [ 0  0  0  0  0  0  5  3  2  7]\n",
      " [ 0  0  0  0  0  0  6  3  2  4]\n",
      " [ 0  0  0  8  6  9  2  4 10 11]]\n",
      "padded_sequenced sentences with padding = 'post'\n",
      "[[ 5  3  2  4  0  0  0  0  0  0]\n",
      " [ 5  3  2  7  0  0  0  0  0  0]\n",
      " [ 6  3  2  4  0  0  0  0  0  0]\n",
      " [ 8  6  9  2  4 10 11  0  0  0]]\n"
     ]
    }
   ],
   "source": [
    "sentences = [\n",
    "    'I love my dog',\n",
    "    'I love my cat',\n",
    "    'You love my dog!',\n",
    "    'Do you think my dog is amazing?'\n",
    "]\n",
    "\n",
    "# Generating the tokens of the above sentences\n",
    "tokenizer = Tokenizer(num_words = 100,oov_token = '<OOV>')\n",
    "# assigning tokens to the senetences\n",
    "tokenizer.fit_on_texts(sentences)\n",
    "#  Creating words with tokens as a dictionary\n",
    "word_index = tokenizer.word_index\n",
    "print(f\"tokens_dictionary :{word_index}\")\n",
    "# Arranging the tokens in the form of sentences\n",
    "sequences = tokenizer.texts_to_sequences(sentences)\n",
    "print(f\"sequences : {sequences}\")\n",
    "# Padding the sequenced sentences with padding = 'pre'\n",
    "padded = pad_sequences(sequences,maxlen = 10,padding = 'pre')\n",
    "print(f\"padded_sequenced sentences with padding = 'pre'\")\n",
    "print(padded)\n",
    "# Padding the sequenced sentences with padding = 'post'\n",
    "padded = pad_sequences(sequences,maxlen = 10,padding = 'post')\n",
    "print(f\"padded_sequenced sentences with padding = 'post'\")\n",
    "print(padded)\n"
   ]
  },
  {
   "cell_type": "markdown",
   "id": "32539865",
   "metadata": {},
   "source": [
    "## Testing some data"
   ]
  },
  {
   "cell_type": "code",
   "execution_count": 5,
   "id": "71fc079e",
   "metadata": {},
   "outputs": [
    {
     "name": "stdout",
     "output_type": "stream",
     "text": [
      "test_sequnces : [[5, 1, 3, 2, 4], [2, 4, 1, 2, 1]]\n",
      "testing_padding ='post'\n",
      "[[5 1 3 2 4 0 0 0 0 0]\n",
      " [2 4 1 2 1 0 0 0 0 0]]\n"
     ]
    }
   ],
   "source": [
    "test_data = [\n",
    "    'i really love my dog',\n",
    "    'my dog loves my manatee'\n",
    "]\n",
    "\n",
    "test_sequence = tokenizer.texts_to_sequences(test_data)\n",
    "print(f\"test_sequnces : {test_sequence}\")\n",
    "test_padding = pad_sequences(test_sequence,padding = 'post',maxlen = 10)\n",
    "print(\"testing_padding ='post'\")\n",
    "print(test_padding)"
   ]
  },
  {
   "cell_type": "code",
   "execution_count": null,
   "id": "07af200d",
   "metadata": {},
   "outputs": [],
   "source": []
  },
  {
   "cell_type": "code",
   "execution_count": null,
   "id": "e9bd71c0",
   "metadata": {},
   "outputs": [],
   "source": []
  }
 ],
 "metadata": {
  "kernelspec": {
   "display_name": "Python 3 (ipykernel)",
   "language": "python",
   "name": "python3"
  },
  "language_info": {
   "codemirror_mode": {
    "name": "ipython",
    "version": 3
   },
   "file_extension": ".py",
   "mimetype": "text/x-python",
   "name": "python",
   "nbconvert_exporter": "python",
   "pygments_lexer": "ipython3",
   "version": "3.9.7"
  }
 },
 "nbformat": 4,
 "nbformat_minor": 5
}
